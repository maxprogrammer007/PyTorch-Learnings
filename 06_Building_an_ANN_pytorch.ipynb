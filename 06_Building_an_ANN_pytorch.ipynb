{
 "cells": [
  {
   "cell_type": "code",
   "execution_count": 1,
   "metadata": {},
   "outputs": [],
   "source": [
    "import pandas as pd\n",
    "from sklearn.model_selection import train_test_split\n",
    "import torch\n",
    "from torch.utils.data import DataLoader, Dataset\n",
    "import torch.nn as nn\n",
    "import torch.optim as optim\n",
    "import numpy as np\n",
    "import matplotlib.pyplot as plt"
   ]
  },
  {
   "cell_type": "code",
   "execution_count": null,
   "metadata": {},
   "outputs": [
    {
     "data": {
      "text/plain": [
       "<torch._C.Generator at 0x213ffe71b30>"
      ]
     },
     "execution_count": 2,
     "metadata": {},
     "output_type": "execute_result"
    }
   ],
   "source": [
    "# set a rsandom seed for reproducibility\n",
    "torch.manual_seed(42)"
   ]
  },
  {
   "cell_type": "code",
   "execution_count": 3,
   "metadata": {},
   "outputs": [
    {
     "data": {
      "text/html": [
       "<div>\n",
       "<style scoped>\n",
       "    .dataframe tbody tr th:only-of-type {\n",
       "        vertical-align: middle;\n",
       "    }\n",
       "\n",
       "    .dataframe tbody tr th {\n",
       "        vertical-align: top;\n",
       "    }\n",
       "\n",
       "    .dataframe thead th {\n",
       "        text-align: right;\n",
       "    }\n",
       "</style>\n",
       "<table border=\"1\" class=\"dataframe\">\n",
       "  <thead>\n",
       "    <tr style=\"text-align: right;\">\n",
       "      <th></th>\n",
       "      <th>label</th>\n",
       "      <th>pixel1</th>\n",
       "      <th>pixel2</th>\n",
       "      <th>pixel3</th>\n",
       "      <th>pixel4</th>\n",
       "      <th>pixel5</th>\n",
       "      <th>pixel6</th>\n",
       "      <th>pixel7</th>\n",
       "      <th>pixel8</th>\n",
       "      <th>pixel9</th>\n",
       "      <th>...</th>\n",
       "      <th>pixel775</th>\n",
       "      <th>pixel776</th>\n",
       "      <th>pixel777</th>\n",
       "      <th>pixel778</th>\n",
       "      <th>pixel779</th>\n",
       "      <th>pixel780</th>\n",
       "      <th>pixel781</th>\n",
       "      <th>pixel782</th>\n",
       "      <th>pixel783</th>\n",
       "      <th>pixel784</th>\n",
       "    </tr>\n",
       "  </thead>\n",
       "  <tbody>\n",
       "    <tr>\n",
       "      <th>0</th>\n",
       "      <td>9</td>\n",
       "      <td>0</td>\n",
       "      <td>0</td>\n",
       "      <td>0</td>\n",
       "      <td>0</td>\n",
       "      <td>0</td>\n",
       "      <td>0</td>\n",
       "      <td>0</td>\n",
       "      <td>0</td>\n",
       "      <td>0</td>\n",
       "      <td>...</td>\n",
       "      <td>0</td>\n",
       "      <td>7</td>\n",
       "      <td>0</td>\n",
       "      <td>50</td>\n",
       "      <td>205</td>\n",
       "      <td>196</td>\n",
       "      <td>213</td>\n",
       "      <td>165</td>\n",
       "      <td>0</td>\n",
       "      <td>0</td>\n",
       "    </tr>\n",
       "    <tr>\n",
       "      <th>1</th>\n",
       "      <td>7</td>\n",
       "      <td>0</td>\n",
       "      <td>0</td>\n",
       "      <td>0</td>\n",
       "      <td>0</td>\n",
       "      <td>0</td>\n",
       "      <td>0</td>\n",
       "      <td>0</td>\n",
       "      <td>0</td>\n",
       "      <td>0</td>\n",
       "      <td>...</td>\n",
       "      <td>0</td>\n",
       "      <td>0</td>\n",
       "      <td>0</td>\n",
       "      <td>0</td>\n",
       "      <td>0</td>\n",
       "      <td>0</td>\n",
       "      <td>0</td>\n",
       "      <td>0</td>\n",
       "      <td>0</td>\n",
       "      <td>0</td>\n",
       "    </tr>\n",
       "    <tr>\n",
       "      <th>2</th>\n",
       "      <td>0</td>\n",
       "      <td>0</td>\n",
       "      <td>0</td>\n",
       "      <td>0</td>\n",
       "      <td>0</td>\n",
       "      <td>0</td>\n",
       "      <td>1</td>\n",
       "      <td>0</td>\n",
       "      <td>0</td>\n",
       "      <td>0</td>\n",
       "      <td>...</td>\n",
       "      <td>142</td>\n",
       "      <td>142</td>\n",
       "      <td>142</td>\n",
       "      <td>21</td>\n",
       "      <td>0</td>\n",
       "      <td>3</td>\n",
       "      <td>0</td>\n",
       "      <td>0</td>\n",
       "      <td>0</td>\n",
       "      <td>0</td>\n",
       "    </tr>\n",
       "    <tr>\n",
       "      <th>3</th>\n",
       "      <td>8</td>\n",
       "      <td>0</td>\n",
       "      <td>0</td>\n",
       "      <td>0</td>\n",
       "      <td>0</td>\n",
       "      <td>0</td>\n",
       "      <td>0</td>\n",
       "      <td>0</td>\n",
       "      <td>0</td>\n",
       "      <td>0</td>\n",
       "      <td>...</td>\n",
       "      <td>0</td>\n",
       "      <td>0</td>\n",
       "      <td>0</td>\n",
       "      <td>0</td>\n",
       "      <td>0</td>\n",
       "      <td>0</td>\n",
       "      <td>0</td>\n",
       "      <td>0</td>\n",
       "      <td>0</td>\n",
       "      <td>0</td>\n",
       "    </tr>\n",
       "    <tr>\n",
       "      <th>4</th>\n",
       "      <td>8</td>\n",
       "      <td>0</td>\n",
       "      <td>0</td>\n",
       "      <td>0</td>\n",
       "      <td>0</td>\n",
       "      <td>0</td>\n",
       "      <td>0</td>\n",
       "      <td>0</td>\n",
       "      <td>0</td>\n",
       "      <td>0</td>\n",
       "      <td>...</td>\n",
       "      <td>213</td>\n",
       "      <td>203</td>\n",
       "      <td>174</td>\n",
       "      <td>151</td>\n",
       "      <td>188</td>\n",
       "      <td>10</td>\n",
       "      <td>0</td>\n",
       "      <td>0</td>\n",
       "      <td>0</td>\n",
       "      <td>0</td>\n",
       "    </tr>\n",
       "  </tbody>\n",
       "</table>\n",
       "<p>5 rows × 785 columns</p>\n",
       "</div>"
      ],
      "text/plain": [
       "   label  pixel1  pixel2  pixel3  pixel4  pixel5  pixel6  pixel7  pixel8  \\\n",
       "0      9       0       0       0       0       0       0       0       0   \n",
       "1      7       0       0       0       0       0       0       0       0   \n",
       "2      0       0       0       0       0       0       1       0       0   \n",
       "3      8       0       0       0       0       0       0       0       0   \n",
       "4      8       0       0       0       0       0       0       0       0   \n",
       "\n",
       "   pixel9  ...  pixel775  pixel776  pixel777  pixel778  pixel779  pixel780  \\\n",
       "0       0  ...         0         7         0        50       205       196   \n",
       "1       0  ...         0         0         0         0         0         0   \n",
       "2       0  ...       142       142       142        21         0         3   \n",
       "3       0  ...         0         0         0         0         0         0   \n",
       "4       0  ...       213       203       174       151       188        10   \n",
       "\n",
       "   pixel781  pixel782  pixel783  pixel784  \n",
       "0       213       165         0         0  \n",
       "1         0         0         0         0  \n",
       "2         0         0         0         0  \n",
       "3         0         0         0         0  \n",
       "4         0         0         0         0  \n",
       "\n",
       "[5 rows x 785 columns]"
      ]
     },
     "execution_count": 3,
     "metadata": {},
     "output_type": "execute_result"
    }
   ],
   "source": [
    "df = pd.read_csv('fmnist_small.csv')\n",
    "df.head()"
   ]
  },
  {
   "cell_type": "code",
   "execution_count": 4,
   "metadata": {},
   "outputs": [],
   "source": [
    "# train test split\n",
    "\n",
    "x = df.iloc[:, 1:].values\n",
    "y = df.iloc[:, 0].values"
   ]
  },
  {
   "cell_type": "code",
   "execution_count": 5,
   "metadata": {},
   "outputs": [],
   "source": [
    "X_train , X_test, y_train, y_test = train_test_split(x, y, test_size=0.2, random_state=42)\n"
   ]
  },
  {
   "cell_type": "code",
   "execution_count": 6,
   "metadata": {},
   "outputs": [],
   "source": [
    "#scaling the features\n",
    "\n",
    "X_train = X_train/255.0\n",
    "X_test = X_test/255.0"
   ]
  },
  {
   "cell_type": "code",
   "execution_count": 7,
   "metadata": {},
   "outputs": [],
   "source": [
    "# Create a CustomDataset class\n",
    "class CustomDataset(Dataset):\n",
    "    def __init__(self, Features, Labels):\n",
    "        self.Features = torch.tensor(Features, dtype=torch.float32)\n",
    "        self.Labels = torch.tensor(Labels, dtype=torch.long)\n",
    "        \n",
    "    def __len__(self):\n",
    "        return len(self.Features)\n",
    "    \n",
    "    def __getitem__(self, idx):\n",
    "        return self.Features[idx], self.Labels[idx]\n"
   ]
  },
  {
   "cell_type": "code",
   "execution_count": 8,
   "metadata": {},
   "outputs": [],
   "source": [
    "# create a train_dataset object \n",
    "train_dataset = CustomDataset(X_train, y_train)"
   ]
  },
  {
   "cell_type": "code",
   "execution_count": 9,
   "metadata": {},
   "outputs": [
    {
     "data": {
      "text/plain": [
       "4800"
      ]
     },
     "execution_count": 9,
     "metadata": {},
     "output_type": "execute_result"
    }
   ],
   "source": [
    "len(train_dataset)"
   ]
  },
  {
   "cell_type": "code",
   "execution_count": 10,
   "metadata": {},
   "outputs": [],
   "source": [
    "# create test_dataset object \n",
    "test_dataset = CustomDataset(X_test, y_test)"
   ]
  },
  {
   "cell_type": "code",
   "execution_count": 11,
   "metadata": {},
   "outputs": [
    {
     "data": {
      "text/plain": [
       "1200"
      ]
     },
     "execution_count": 11,
     "metadata": {},
     "output_type": "execute_result"
    }
   ],
   "source": [
    "len(test_dataset)"
   ]
  },
  {
   "cell_type": "code",
   "execution_count": 12,
   "metadata": {},
   "outputs": [],
   "source": [
    "# create and test loader objects\n",
    "train_loader = DataLoader(train_dataset, batch_size=32, shuffle=True)\n",
    "test_loader = DataLoader(test_dataset, batch_size=32, shuffle=False)"
   ]
  },
  {
   "cell_type": "code",
   "execution_count": 18,
   "metadata": {},
   "outputs": [],
   "source": [
    "# Define the NN class\n",
    "\n",
    "class MyNN(nn.Module):\n",
    "    def __init__(self,input_size):\n",
    "        super().__init__()\n",
    "        self.model = nn.Sequential(\n",
    "            nn.Linear(784, 128),\n",
    "            nn.ReLU(),\n",
    "            nn.Linear(128, 64),\n",
    "            nn.ReLU(),\n",
    "            nn.Linear(64, 10)\n",
    "        )\n",
    "    def forward(self, x):\n",
    "        return self.model(x)"
   ]
  },
  {
   "cell_type": "code",
   "execution_count": 19,
   "metadata": {},
   "outputs": [],
   "source": [
    "# set learning rate and epochs\n",
    "lr = 0.1\n",
    "epochs = 100"
   ]
  },
  {
   "cell_type": "code",
   "execution_count": 35,
   "metadata": {},
   "outputs": [],
   "source": [
    "# Instantiate the model\n",
    "model = MyNN(X_train.shape[1])\n",
    "\n",
    "\n",
    "# loss function \n",
    "criterion = nn.CrossEntropyLoss()\n",
    "\n",
    "# using the best optimizer for the model - adam / sgd / rmsprop\n",
    "optimizer = optim.SGD(model.parameters(), lr=lr)"
   ]
  },
  {
   "cell_type": "code",
   "execution_count": 36,
   "metadata": {},
   "outputs": [
    {
     "name": "stdout",
     "output_type": "stream",
     "text": [
      "Epoch 1/100, Loss: 0.7496231198310852\n",
      "Epoch 2/100, Loss: 0.6229442358016968\n",
      "Epoch 3/100, Loss: 0.8218339085578918\n",
      "Epoch 4/100, Loss: 0.4268905818462372\n",
      "Epoch 5/100, Loss: 0.7349354028701782\n",
      "Epoch 6/100, Loss: 0.4638618230819702\n",
      "Epoch 7/100, Loss: 0.35462889075279236\n",
      "Epoch 8/100, Loss: 0.3960343301296234\n",
      "Epoch 9/100, Loss: 0.6211223602294922\n",
      "Epoch 10/100, Loss: 0.20655426383018494\n",
      "Epoch 11/100, Loss: 0.5043542981147766\n",
      "Epoch 12/100, Loss: 0.42317312955856323\n",
      "Epoch 13/100, Loss: 0.2955767512321472\n",
      "Epoch 14/100, Loss: 0.6730344295501709\n",
      "Epoch 15/100, Loss: 0.34224578738212585\n",
      "Epoch 16/100, Loss: 0.3603803217411041\n",
      "Epoch 17/100, Loss: 0.4556501507759094\n",
      "Epoch 18/100, Loss: 0.22816652059555054\n",
      "Epoch 19/100, Loss: 0.2377115935087204\n",
      "Epoch 20/100, Loss: 0.3410474956035614\n",
      "Epoch 21/100, Loss: 0.2577414810657501\n",
      "Epoch 22/100, Loss: 0.33742132782936096\n",
      "Epoch 23/100, Loss: 0.23675477504730225\n",
      "Epoch 24/100, Loss: 0.21209625899791718\n",
      "Epoch 25/100, Loss: 0.11783583462238312\n",
      "Epoch 26/100, Loss: 0.23842434585094452\n",
      "Epoch 27/100, Loss: 0.24172519147396088\n",
      "Epoch 28/100, Loss: 0.05191010981798172\n",
      "Epoch 29/100, Loss: 0.15332722663879395\n",
      "Epoch 30/100, Loss: 0.19200628995895386\n",
      "Epoch 31/100, Loss: 0.4156705439090729\n",
      "Epoch 32/100, Loss: 0.14540576934814453\n",
      "Epoch 33/100, Loss: 0.10847355425357819\n",
      "Epoch 34/100, Loss: 0.06477702409029007\n",
      "Epoch 35/100, Loss: 0.19291158020496368\n",
      "Epoch 36/100, Loss: 0.112046018242836\n",
      "Epoch 37/100, Loss: 0.04291431978344917\n",
      "Epoch 38/100, Loss: 0.3044179379940033\n",
      "Epoch 39/100, Loss: 0.07422828674316406\n",
      "Epoch 40/100, Loss: 0.07921995222568512\n",
      "Epoch 41/100, Loss: 0.06443321704864502\n",
      "Epoch 42/100, Loss: 0.1936311274766922\n",
      "Epoch 43/100, Loss: 0.061425067484378815\n",
      "Epoch 44/100, Loss: 0.08346612006425858\n",
      "Epoch 45/100, Loss: 0.09529786556959152\n",
      "Epoch 46/100, Loss: 0.11956018209457397\n",
      "Epoch 47/100, Loss: 0.05708020552992821\n",
      "Epoch 48/100, Loss: 0.05905001610517502\n",
      "Epoch 49/100, Loss: 0.05967671051621437\n",
      "Epoch 50/100, Loss: 0.04285009950399399\n",
      "Epoch 51/100, Loss: 0.017490623518824577\n",
      "Epoch 52/100, Loss: 0.08898478001356125\n",
      "Epoch 53/100, Loss: 0.32388225197792053\n",
      "Epoch 54/100, Loss: 0.17244653403759003\n",
      "Epoch 55/100, Loss: 0.07041087746620178\n",
      "Epoch 56/100, Loss: 0.09443099796772003\n",
      "Epoch 57/100, Loss: 0.11230926960706711\n",
      "Epoch 58/100, Loss: 0.0736408606171608\n",
      "Epoch 59/100, Loss: 0.2275046706199646\n",
      "Epoch 60/100, Loss: 0.069736547768116\n",
      "Epoch 61/100, Loss: 0.12589824199676514\n",
      "Epoch 62/100, Loss: 0.04237731546163559\n",
      "Epoch 63/100, Loss: 0.021870261058211327\n",
      "Epoch 64/100, Loss: 0.07341919094324112\n",
      "Epoch 65/100, Loss: 0.025160597637295723\n",
      "Epoch 66/100, Loss: 0.11364737153053284\n",
      "Epoch 67/100, Loss: 0.1711026132106781\n",
      "Epoch 68/100, Loss: 0.26043152809143066\n",
      "Epoch 69/100, Loss: 0.006872124038636684\n",
      "Epoch 70/100, Loss: 0.13135038316249847\n",
      "Epoch 71/100, Loss: 0.03715065121650696\n",
      "Epoch 72/100, Loss: 0.07604771852493286\n",
      "Epoch 73/100, Loss: 0.013901706784963608\n",
      "Epoch 74/100, Loss: 0.05747010186314583\n",
      "Epoch 75/100, Loss: 0.0731390118598938\n",
      "Epoch 76/100, Loss: 0.01262996718287468\n",
      "Epoch 77/100, Loss: 0.04889020323753357\n",
      "Epoch 78/100, Loss: 0.2665822207927704\n",
      "Epoch 79/100, Loss: 0.008939510211348534\n",
      "Epoch 80/100, Loss: 0.055612727999687195\n",
      "Epoch 81/100, Loss: 0.03665665537118912\n",
      "Epoch 82/100, Loss: 0.03465517610311508\n",
      "Epoch 83/100, Loss: 0.08621762692928314\n",
      "Epoch 84/100, Loss: 0.01175784133374691\n",
      "Epoch 85/100, Loss: 0.11795451492071152\n",
      "Epoch 86/100, Loss: 0.008826157078146935\n",
      "Epoch 87/100, Loss: 0.2548924386501312\n",
      "Epoch 88/100, Loss: 0.07470931112766266\n",
      "Epoch 89/100, Loss: 0.014557624235749245\n",
      "Epoch 90/100, Loss: 0.017602263018488884\n",
      "Epoch 91/100, Loss: 0.011637143790721893\n",
      "Epoch 92/100, Loss: 0.00582086481153965\n",
      "Epoch 93/100, Loss: 0.003775077871978283\n",
      "Epoch 94/100, Loss: 0.13384081423282623\n",
      "Epoch 95/100, Loss: 0.00421439902856946\n",
      "Epoch 96/100, Loss: 0.003028815146535635\n",
      "Epoch 97/100, Loss: 0.28765133023262024\n",
      "Epoch 98/100, Loss: 0.00849867146462202\n",
      "Epoch 99/100, Loss: 0.00767536461353302\n",
      "Epoch 100/100, Loss: 0.022428110241889954\n"
     ]
    }
   ],
   "source": [
    "# training loop \n",
    "\n",
    "for epoch in range(epochs):\n",
    "    output = model.train()\n",
    "    for features, labels in train_loader:\n",
    "        optimizer.zero_grad()\n",
    "        outputs = model(features)\n",
    "        loss = criterion(outputs, labels)\n",
    "        loss.backward()\n",
    "        optimizer.step()\n",
    "    print(f'Epoch {epoch+1}/{epochs}, Loss: {loss.item()}')"
   ]
  },
  {
   "cell_type": "code",
   "execution_count": 37,
   "metadata": {},
   "outputs": [
    {
     "data": {
      "text/plain": [
       "MyNN(\n",
       "  (model): Sequential(\n",
       "    (0): Linear(in_features=784, out_features=128, bias=True)\n",
       "    (1): ReLU()\n",
       "    (2): Linear(in_features=128, out_features=64, bias=True)\n",
       "    (3): ReLU()\n",
       "    (4): Linear(in_features=64, out_features=10, bias=True)\n",
       "  )\n",
       ")"
      ]
     },
     "execution_count": 37,
     "metadata": {},
     "output_type": "execute_result"
    }
   ],
   "source": [
    "# set the model to evaluation mode\n",
    "model.eval()\n"
   ]
  },
  {
   "cell_type": "code",
   "execution_count": 38,
   "metadata": {},
   "outputs": [],
   "source": [
    "# evaluate the model\n",
    "total = 0\n",
    "correct = 0\n",
    "\n",
    "with torch.no_grad():\n",
    "    for features, labels in test_loader:\n",
    "        outputs = model(features)\n",
    "        _, predicted = torch.max(outputs, 1)\n",
    "        total += labels.size(0)\n",
    "        correct += (predicted == labels).sum().item()"
   ]
  },
  {
   "cell_type": "code",
   "execution_count": 39,
   "metadata": {},
   "outputs": [
    {
     "name": "stdout",
     "output_type": "stream",
     "text": [
      "Accuracy: 0.8425\n"
     ]
    }
   ],
   "source": [
    "# print the accuracy\n",
    "print(f'Accuracy: {correct/total}')"
   ]
  },
  {
   "cell_type": "code",
   "execution_count": null,
   "metadata": {},
   "outputs": [],
   "source": []
  }
 ],
 "metadata": {
  "kernelspec": {
   "display_name": "Python 3",
   "language": "python",
   "name": "python3"
  },
  "language_info": {
   "codemirror_mode": {
    "name": "ipython",
    "version": 3
   },
   "file_extension": ".py",
   "mimetype": "text/x-python",
   "name": "python",
   "nbconvert_exporter": "python",
   "pygments_lexer": "ipython3",
   "version": "3.12.5"
  }
 },
 "nbformat": 4,
 "nbformat_minor": 2
}
