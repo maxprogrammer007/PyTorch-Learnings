{
 "cells": [
  {
   "cell_type": "code",
   "execution_count": 1,
   "metadata": {},
   "outputs": [],
   "source": [
    "import pandas as pd\n",
    "from sklearn.model_selection import train_test_split\n",
    "import torch\n",
    "from torch.utils.data import DataLoader, Dataset\n",
    "import torch.nn as nn\n",
    "import torch.optim as optim\n",
    "import numpy as np\n",
    "import matplotlib.pyplot as plt"
   ]
  },
  {
   "cell_type": "code",
   "execution_count": 2,
   "metadata": {},
   "outputs": [
    {
     "data": {
      "text/plain": [
       "<torch._C.Generator at 0x213ffe71b30>"
      ]
     },
     "execution_count": 2,
     "metadata": {},
     "output_type": "execute_result"
    }
   ],
   "source": [
    "# set a rsandom seed for reproducibility\n",
    "torch.manual_seed(42)"
   ]
  },
  {
   "cell_type": "code",
   "execution_count": 3,
   "metadata": {},
   "outputs": [
    {
     "data": {
      "text/html": [
       "<div>\n",
       "<style scoped>\n",
       "    .dataframe tbody tr th:only-of-type {\n",
       "        vertical-align: middle;\n",
       "    }\n",
       "\n",
       "    .dataframe tbody tr th {\n",
       "        vertical-align: top;\n",
       "    }\n",
       "\n",
       "    .dataframe thead th {\n",
       "        text-align: right;\n",
       "    }\n",
       "</style>\n",
       "<table border=\"1\" class=\"dataframe\">\n",
       "  <thead>\n",
       "    <tr style=\"text-align: right;\">\n",
       "      <th></th>\n",
       "      <th>label</th>\n",
       "      <th>pixel1</th>\n",
       "      <th>pixel2</th>\n",
       "      <th>pixel3</th>\n",
       "      <th>pixel4</th>\n",
       "      <th>pixel5</th>\n",
       "      <th>pixel6</th>\n",
       "      <th>pixel7</th>\n",
       "      <th>pixel8</th>\n",
       "      <th>pixel9</th>\n",
       "      <th>...</th>\n",
       "      <th>pixel775</th>\n",
       "      <th>pixel776</th>\n",
       "      <th>pixel777</th>\n",
       "      <th>pixel778</th>\n",
       "      <th>pixel779</th>\n",
       "      <th>pixel780</th>\n",
       "      <th>pixel781</th>\n",
       "      <th>pixel782</th>\n",
       "      <th>pixel783</th>\n",
       "      <th>pixel784</th>\n",
       "    </tr>\n",
       "  </thead>\n",
       "  <tbody>\n",
       "    <tr>\n",
       "      <th>0</th>\n",
       "      <td>9</td>\n",
       "      <td>0</td>\n",
       "      <td>0</td>\n",
       "      <td>0</td>\n",
       "      <td>0</td>\n",
       "      <td>0</td>\n",
       "      <td>0</td>\n",
       "      <td>0</td>\n",
       "      <td>0</td>\n",
       "      <td>0</td>\n",
       "      <td>...</td>\n",
       "      <td>0</td>\n",
       "      <td>7</td>\n",
       "      <td>0</td>\n",
       "      <td>50</td>\n",
       "      <td>205</td>\n",
       "      <td>196</td>\n",
       "      <td>213</td>\n",
       "      <td>165</td>\n",
       "      <td>0</td>\n",
       "      <td>0</td>\n",
       "    </tr>\n",
       "    <tr>\n",
       "      <th>1</th>\n",
       "      <td>7</td>\n",
       "      <td>0</td>\n",
       "      <td>0</td>\n",
       "      <td>0</td>\n",
       "      <td>0</td>\n",
       "      <td>0</td>\n",
       "      <td>0</td>\n",
       "      <td>0</td>\n",
       "      <td>0</td>\n",
       "      <td>0</td>\n",
       "      <td>...</td>\n",
       "      <td>0</td>\n",
       "      <td>0</td>\n",
       "      <td>0</td>\n",
       "      <td>0</td>\n",
       "      <td>0</td>\n",
       "      <td>0</td>\n",
       "      <td>0</td>\n",
       "      <td>0</td>\n",
       "      <td>0</td>\n",
       "      <td>0</td>\n",
       "    </tr>\n",
       "    <tr>\n",
       "      <th>2</th>\n",
       "      <td>0</td>\n",
       "      <td>0</td>\n",
       "      <td>0</td>\n",
       "      <td>0</td>\n",
       "      <td>0</td>\n",
       "      <td>0</td>\n",
       "      <td>1</td>\n",
       "      <td>0</td>\n",
       "      <td>0</td>\n",
       "      <td>0</td>\n",
       "      <td>...</td>\n",
       "      <td>142</td>\n",
       "      <td>142</td>\n",
       "      <td>142</td>\n",
       "      <td>21</td>\n",
       "      <td>0</td>\n",
       "      <td>3</td>\n",
       "      <td>0</td>\n",
       "      <td>0</td>\n",
       "      <td>0</td>\n",
       "      <td>0</td>\n",
       "    </tr>\n",
       "    <tr>\n",
       "      <th>3</th>\n",
       "      <td>8</td>\n",
       "      <td>0</td>\n",
       "      <td>0</td>\n",
       "      <td>0</td>\n",
       "      <td>0</td>\n",
       "      <td>0</td>\n",
       "      <td>0</td>\n",
       "      <td>0</td>\n",
       "      <td>0</td>\n",
       "      <td>0</td>\n",
       "      <td>...</td>\n",
       "      <td>0</td>\n",
       "      <td>0</td>\n",
       "      <td>0</td>\n",
       "      <td>0</td>\n",
       "      <td>0</td>\n",
       "      <td>0</td>\n",
       "      <td>0</td>\n",
       "      <td>0</td>\n",
       "      <td>0</td>\n",
       "      <td>0</td>\n",
       "    </tr>\n",
       "    <tr>\n",
       "      <th>4</th>\n",
       "      <td>8</td>\n",
       "      <td>0</td>\n",
       "      <td>0</td>\n",
       "      <td>0</td>\n",
       "      <td>0</td>\n",
       "      <td>0</td>\n",
       "      <td>0</td>\n",
       "      <td>0</td>\n",
       "      <td>0</td>\n",
       "      <td>0</td>\n",
       "      <td>...</td>\n",
       "      <td>213</td>\n",
       "      <td>203</td>\n",
       "      <td>174</td>\n",
       "      <td>151</td>\n",
       "      <td>188</td>\n",
       "      <td>10</td>\n",
       "      <td>0</td>\n",
       "      <td>0</td>\n",
       "      <td>0</td>\n",
       "      <td>0</td>\n",
       "    </tr>\n",
       "  </tbody>\n",
       "</table>\n",
       "<p>5 rows × 785 columns</p>\n",
       "</div>"
      ],
      "text/plain": [
       "   label  pixel1  pixel2  pixel3  pixel4  pixel5  pixel6  pixel7  pixel8  \\\n",
       "0      9       0       0       0       0       0       0       0       0   \n",
       "1      7       0       0       0       0       0       0       0       0   \n",
       "2      0       0       0       0       0       0       1       0       0   \n",
       "3      8       0       0       0       0       0       0       0       0   \n",
       "4      8       0       0       0       0       0       0       0       0   \n",
       "\n",
       "   pixel9  ...  pixel775  pixel776  pixel777  pixel778  pixel779  pixel780  \\\n",
       "0       0  ...         0         7         0        50       205       196   \n",
       "1       0  ...         0         0         0         0         0         0   \n",
       "2       0  ...       142       142       142        21         0         3   \n",
       "3       0  ...         0         0         0         0         0         0   \n",
       "4       0  ...       213       203       174       151       188        10   \n",
       "\n",
       "   pixel781  pixel782  pixel783  pixel784  \n",
       "0       213       165         0         0  \n",
       "1         0         0         0         0  \n",
       "2         0         0         0         0  \n",
       "3         0         0         0         0  \n",
       "4         0         0         0         0  \n",
       "\n",
       "[5 rows x 785 columns]"
      ]
     },
     "execution_count": 3,
     "metadata": {},
     "output_type": "execute_result"
    }
   ],
   "source": [
    "df = pd.read_csv('fmnist_small.csv')\n",
    "df.head()"
   ]
  },
  {
   "cell_type": "code",
   "execution_count": 4,
   "metadata": {},
   "outputs": [],
   "source": [
    "# train test split\n",
    "\n",
    "x = df.iloc[:, 1:].values\n",
    "y = df.iloc[:, 0].values"
   ]
  },
  {
   "cell_type": "code",
   "execution_count": 5,
   "metadata": {},
   "outputs": [],
   "source": [
    "X_train , X_test, y_train, y_test = train_test_split(x, y, test_size=0.2, random_state=42)\n"
   ]
  },
  {
   "cell_type": "code",
   "execution_count": 6,
   "metadata": {},
   "outputs": [],
   "source": [
    "#scaling the features\n",
    "\n",
    "X_train = X_train/255.0\n",
    "X_test = X_test/255.0"
   ]
  },
  {
   "cell_type": "code",
   "execution_count": 7,
   "metadata": {},
   "outputs": [],
   "source": [
    "# Create a CustomDataset class\n",
    "class CustomDataset(Dataset):\n",
    "    def __init__(self, Features, Labels):\n",
    "        self.Features = torch.tensor(Features, dtype=torch.float32)\n",
    "        self.Labels = torch.tensor(Labels, dtype=torch.long)\n",
    "        \n",
    "    def __len__(self):\n",
    "        return len(self.Features)\n",
    "    \n",
    "    def __getitem__(self, idx):\n",
    "        return self.Features[idx], self.Labels[idx]\n"
   ]
  },
  {
   "cell_type": "code",
   "execution_count": 8,
   "metadata": {},
   "outputs": [],
   "source": [
    "# create a train_dataset object \n",
    "train_dataset = CustomDataset(X_train, y_train)"
   ]
  },
  {
   "cell_type": "code",
   "execution_count": 9,
   "metadata": {},
   "outputs": [
    {
     "data": {
      "text/plain": [
       "4800"
      ]
     },
     "execution_count": 9,
     "metadata": {},
     "output_type": "execute_result"
    }
   ],
   "source": [
    "len(train_dataset)"
   ]
  },
  {
   "cell_type": "code",
   "execution_count": 10,
   "metadata": {},
   "outputs": [],
   "source": [
    "# create test_dataset object \n",
    "test_dataset = CustomDataset(X_test, y_test)"
   ]
  },
  {
   "cell_type": "code",
   "execution_count": 11,
   "metadata": {},
   "outputs": [
    {
     "data": {
      "text/plain": [
       "1200"
      ]
     },
     "execution_count": 11,
     "metadata": {},
     "output_type": "execute_result"
    }
   ],
   "source": [
    "len(test_dataset)"
   ]
  },
  {
   "cell_type": "code",
   "execution_count": 12,
   "metadata": {},
   "outputs": [],
   "source": [
    "# create and test loader objects\n",
    "train_loader = DataLoader(train_dataset, batch_size=32, shuffle=True)\n",
    "test_loader = DataLoader(test_dataset, batch_size=32, shuffle=False)"
   ]
  },
  {
   "cell_type": "code",
   "execution_count": 18,
   "metadata": {},
   "outputs": [],
   "source": [
    "# Define the NN class\n",
    "\n",
    "class MyNN(nn.Module):\n",
    "    def __init__(self,input_size):\n",
    "        super().__init__()\n",
    "        self.model = nn.Sequential(\n",
    "            nn.Linear(784, 128),\n",
    "            nn.ReLU(),\n",
    "            nn.Linear(128, 64),\n",
    "            nn.ReLU(),\n",
    "            nn.Linear(64, 10)\n",
    "        )\n",
    "    def forward(self, x):\n",
    "        return self.model(x)"
   ]
  },
  {
   "cell_type": "code",
   "execution_count": 19,
   "metadata": {},
   "outputs": [],
   "source": [
    "# set learning rate and epochs\n",
    "lr = 0.1\n",
    "epochs = 100"
   ]
  },
  {
   "cell_type": "code",
   "execution_count": 20,
   "metadata": {},
   "outputs": [],
   "source": [
    "# Instantiate the model\n",
    "model = MyNN(X_train.shape[1])\n",
    "\n",
    "\n",
    "# loss function \n",
    "criterion = nn.CrossEntropyLoss()\n",
    "\n",
    "# optimuizer\n",
    "\n",
    "optimizer = optim.SGD(model.parameters(), lr=lr)"
   ]
  },
  {
   "cell_type": "code",
   "execution_count": 21,
   "metadata": {},
   "outputs": [
    {
     "name": "stdout",
     "output_type": "stream",
     "text": [
      "Epoch 1/100, Loss: 0.7689863443374634\n",
      "Epoch 2/100, Loss: 0.5638744235038757\n",
      "Epoch 3/100, Loss: 0.6357842683792114\n",
      "Epoch 4/100, Loss: 0.4444987177848816\n",
      "Epoch 5/100, Loss: 0.4809406101703644\n",
      "Epoch 6/100, Loss: 0.4647458493709564\n",
      "Epoch 7/100, Loss: 0.4851144254207611\n",
      "Epoch 8/100, Loss: 0.25714606046676636\n",
      "Epoch 9/100, Loss: 0.287505567073822\n",
      "Epoch 10/100, Loss: 0.16737306118011475\n",
      "Epoch 11/100, Loss: 0.48728883266448975\n",
      "Epoch 12/100, Loss: 0.46726760268211365\n",
      "Epoch 13/100, Loss: 0.6252884864807129\n",
      "Epoch 14/100, Loss: 0.7052801251411438\n",
      "Epoch 15/100, Loss: 0.318263977766037\n",
      "Epoch 16/100, Loss: 0.3149816691875458\n",
      "Epoch 17/100, Loss: 0.171303391456604\n",
      "Epoch 18/100, Loss: 0.3545115888118744\n",
      "Epoch 19/100, Loss: 0.4495263993740082\n",
      "Epoch 20/100, Loss: 0.32393643260002136\n",
      "Epoch 21/100, Loss: 0.2520112097263336\n",
      "Epoch 22/100, Loss: 0.29505687952041626\n",
      "Epoch 23/100, Loss: 0.19168470799922943\n",
      "Epoch 24/100, Loss: 0.13614137470722198\n",
      "Epoch 25/100, Loss: 0.12853758037090302\n",
      "Epoch 26/100, Loss: 0.14338800311088562\n",
      "Epoch 27/100, Loss: 0.30618977546691895\n",
      "Epoch 28/100, Loss: 0.2153797298669815\n",
      "Epoch 29/100, Loss: 0.25153884291648865\n",
      "Epoch 30/100, Loss: 0.2035316824913025\n",
      "Epoch 31/100, Loss: 0.18545007705688477\n",
      "Epoch 32/100, Loss: 0.058414850383996964\n",
      "Epoch 33/100, Loss: 0.17478466033935547\n",
      "Epoch 34/100, Loss: 0.2062775194644928\n",
      "Epoch 35/100, Loss: 0.08210363984107971\n",
      "Epoch 36/100, Loss: 0.14066798985004425\n",
      "Epoch 37/100, Loss: 0.16851560771465302\n",
      "Epoch 38/100, Loss: 0.20377980172634125\n",
      "Epoch 39/100, Loss: 0.19847993552684784\n",
      "Epoch 40/100, Loss: 0.42851266264915466\n",
      "Epoch 41/100, Loss: 0.10445636510848999\n",
      "Epoch 42/100, Loss: 0.14763201773166656\n",
      "Epoch 43/100, Loss: 0.06118431314826012\n",
      "Epoch 44/100, Loss: 0.03307100012898445\n",
      "Epoch 45/100, Loss: 0.1966286152601242\n",
      "Epoch 46/100, Loss: 0.045679621398448944\n",
      "Epoch 47/100, Loss: 0.15974722802639008\n",
      "Epoch 48/100, Loss: 0.03998176380991936\n",
      "Epoch 49/100, Loss: 0.29740437865257263\n",
      "Epoch 50/100, Loss: 0.11342480778694153\n",
      "Epoch 51/100, Loss: 0.06686968356370926\n",
      "Epoch 52/100, Loss: 0.026312358677387238\n",
      "Epoch 53/100, Loss: 0.06623376160860062\n",
      "Epoch 54/100, Loss: 0.14873424172401428\n",
      "Epoch 55/100, Loss: 0.014874975197017193\n",
      "Epoch 56/100, Loss: 0.00886878464370966\n",
      "Epoch 57/100, Loss: 0.15837198495864868\n",
      "Epoch 58/100, Loss: 0.01730719767510891\n",
      "Epoch 59/100, Loss: 0.04694157466292381\n",
      "Epoch 60/100, Loss: 0.08994372189044952\n",
      "Epoch 61/100, Loss: 0.06658563017845154\n",
      "Epoch 62/100, Loss: 0.026953909546136856\n",
      "Epoch 63/100, Loss: 0.06611032038927078\n",
      "Epoch 64/100, Loss: 0.010030807927250862\n",
      "Epoch 65/100, Loss: 0.30547866225242615\n",
      "Epoch 66/100, Loss: 0.01506936363875866\n",
      "Epoch 67/100, Loss: 0.020419225096702576\n",
      "Epoch 68/100, Loss: 0.015730898827314377\n",
      "Epoch 69/100, Loss: 0.09666171669960022\n",
      "Epoch 70/100, Loss: 0.004219166003167629\n",
      "Epoch 71/100, Loss: 0.028705492615699768\n",
      "Epoch 72/100, Loss: 0.10995990037918091\n",
      "Epoch 73/100, Loss: 0.0669577345252037\n",
      "Epoch 74/100, Loss: 0.03694763034582138\n",
      "Epoch 75/100, Loss: 0.022683793678879738\n",
      "Epoch 76/100, Loss: 0.07209768146276474\n",
      "Epoch 77/100, Loss: 0.03539791330695152\n",
      "Epoch 78/100, Loss: 0.03880853205919266\n",
      "Epoch 79/100, Loss: 0.008835317566990852\n",
      "Epoch 80/100, Loss: 0.03320692479610443\n",
      "Epoch 81/100, Loss: 0.01873849518597126\n",
      "Epoch 82/100, Loss: 0.018460823222994804\n",
      "Epoch 83/100, Loss: 0.00896143727004528\n",
      "Epoch 84/100, Loss: 0.0030205771327018738\n",
      "Epoch 85/100, Loss: 0.014548204839229584\n",
      "Epoch 86/100, Loss: 0.01889720931649208\n",
      "Epoch 87/100, Loss: 0.06597225368022919\n",
      "Epoch 88/100, Loss: 0.0033737749326974154\n",
      "Epoch 89/100, Loss: 0.06583299487829208\n",
      "Epoch 90/100, Loss: 0.0038339546881616116\n",
      "Epoch 91/100, Loss: 0.012841731309890747\n",
      "Epoch 92/100, Loss: 0.013122329488396645\n",
      "Epoch 93/100, Loss: 0.01008845865726471\n",
      "Epoch 94/100, Loss: 0.09531526267528534\n",
      "Epoch 95/100, Loss: 0.0010522479424253106\n",
      "Epoch 96/100, Loss: 0.007826371118426323\n",
      "Epoch 97/100, Loss: 0.20360487699508667\n",
      "Epoch 98/100, Loss: 0.0476764515042305\n",
      "Epoch 99/100, Loss: 0.033470649272203445\n",
      "Epoch 100/100, Loss: 0.010659633204340935\n"
     ]
    }
   ],
   "source": [
    "# training loop \n",
    "\n",
    "for epoch in range(epochs):\n",
    "    output = model.train()\n",
    "    for features, labels in train_loader:\n",
    "        optimizer.zero_grad()\n",
    "        outputs = model(features)\n",
    "        loss = criterion(outputs, labels)\n",
    "        loss.backward()\n",
    "        optimizer.step()\n",
    "    print(f'Epoch {epoch+1}/{epochs}, Loss: {loss.item()}')"
   ]
  },
  {
   "cell_type": "code",
   "execution_count": 22,
   "metadata": {},
   "outputs": [
    {
     "data": {
      "text/plain": [
       "MyNN(\n",
       "  (model): Sequential(\n",
       "    (0): Linear(in_features=784, out_features=128, bias=True)\n",
       "    (1): ReLU()\n",
       "    (2): Linear(in_features=128, out_features=64, bias=True)\n",
       "    (3): ReLU()\n",
       "    (4): Linear(in_features=64, out_features=10, bias=True)\n",
       "  )\n",
       ")"
      ]
     },
     "execution_count": 22,
     "metadata": {},
     "output_type": "execute_result"
    }
   ],
   "source": [
    "# set the model to evaluation mode\n",
    "model.eval()\n"
   ]
  },
  {
   "cell_type": "code",
   "execution_count": 23,
   "metadata": {},
   "outputs": [],
   "source": [
    "# evaluate the model\n",
    "total = 0\n",
    "correct = 0\n",
    "\n",
    "with torch.no_grad():\n",
    "    for features, labels in test_loader:\n",
    "        outputs = model(features)\n",
    "        _, predicted = torch.max(outputs, 1)\n",
    "        total += labels.size(0)\n",
    "        correct += (predicted == labels).sum().item()"
   ]
  },
  {
   "cell_type": "code",
   "execution_count": 24,
   "metadata": {},
   "outputs": [
    {
     "name": "stdout",
     "output_type": "stream",
     "text": [
      "Accuracy: 0.8291666666666667\n"
     ]
    }
   ],
   "source": [
    "# print the accuracy\n",
    "print(f'Accuracy: {correct/total}')"
   ]
  },
  {
   "cell_type": "code",
   "execution_count": null,
   "metadata": {},
   "outputs": [],
   "source": []
  }
 ],
 "metadata": {
  "kernelspec": {
   "display_name": "Python 3",
   "language": "python",
   "name": "python3"
  },
  "language_info": {
   "codemirror_mode": {
    "name": "ipython",
    "version": 3
   },
   "file_extension": ".py",
   "mimetype": "text/x-python",
   "name": "python",
   "nbconvert_exporter": "python",
   "pygments_lexer": "ipython3",
   "version": "3.12.5"
  }
 },
 "nbformat": 4,
 "nbformat_minor": 2
}
