{
 "cells": [
  {
   "cell_type": "code",
   "execution_count": 3,
   "metadata": {},
   "outputs": [],
   "source": [
    "# Problems with previous approaches :- \n",
    "# Memory Inefficient\n",
    "# Better Convergence \n",
    "# currently we using batch gradient descent :-\n",
    "#   - It is slow\n",
    "#   - It is memory inefficient\n",
    "#   - It is not parallelizable\n",
    "#   - It is sensitive to feature scaling\n",
    "\n",
    "# solution - using batches of data to update the weights "
   ]
  },
  {
   "cell_type": "code",
   "execution_count": null,
   "metadata": {},
   "outputs": [],
   "source": []
  }
 ],
 "metadata": {
  "kernelspec": {
   "display_name": "Python 3",
   "language": "python",
   "name": "python3"
  },
  "language_info": {
   "codemirror_mode": {
    "name": "ipython",
    "version": 3
   },
   "file_extension": ".py",
   "mimetype": "text/x-python",
   "name": "python",
   "nbconvert_exporter": "python",
   "pygments_lexer": "ipython3",
   "version": "3.12.5"
  }
 },
 "nbformat": 4,
 "nbformat_minor": 2
}
