{
  "cells": [
    {
      "cell_type": "code",
      "execution_count": null,
      "metadata": {
        "id": "kKU21BjkVMjj",
        "outputId": "4fac947b-43af-4599-ea3a-88611bb53329"
      },
      "outputs": [
        {
          "name": "stdout",
          "output_type": "stream",
          "text": [
            "Requirement already satisfied: torch in c:\\users\\abhin\\appdata\\local\\programs\\python\\python312\\lib\\site-packages (2.4.0)\n",
            "Requirement already satisfied: filelock in c:\\users\\abhin\\appdata\\local\\programs\\python\\python312\\lib\\site-packages (from torch) (3.15.4)\n",
            "Requirement already satisfied: typing-extensions>=4.8.0 in c:\\users\\abhin\\appdata\\local\\programs\\python\\python312\\lib\\site-packages (from torch) (4.12.2)\n",
            "Requirement already satisfied: sympy in c:\\users\\abhin\\appdata\\local\\programs\\python\\python312\\lib\\site-packages (from torch) (1.13.2)\n",
            "Requirement already satisfied: networkx in c:\\users\\abhin\\appdata\\local\\programs\\python\\python312\\lib\\site-packages (from torch) (3.3)\n",
            "Requirement already satisfied: jinja2 in c:\\users\\abhin\\appdata\\local\\programs\\python\\python312\\lib\\site-packages (from torch) (3.1.4)\n",
            "Requirement already satisfied: fsspec in c:\\users\\abhin\\appdata\\local\\programs\\python\\python312\\lib\\site-packages (from torch) (2024.6.1)\n",
            "Requirement already satisfied: setuptools in c:\\users\\abhin\\appdata\\local\\programs\\python\\python312\\lib\\site-packages (from torch) (74.0.0)\n",
            "Requirement already satisfied: MarkupSafe>=2.0 in c:\\users\\abhin\\appdata\\local\\programs\\python\\python312\\lib\\site-packages (from jinja2->torch) (2.1.5)\n",
            "Requirement already satisfied: mpmath<1.4,>=1.1.0 in c:\\users\\abhin\\appdata\\local\\programs\\python\\python312\\lib\\site-packages (from sympy->torch) (1.3.0)\n",
            "Note: you may need to restart the kernel to use updated packages.\n"
          ]
        },
        {
          "name": "stderr",
          "output_type": "stream",
          "text": [
            "\n",
            "[notice] A new release of pip is available: 24.2 -> 25.0\n",
            "[notice] To update, run: python.exe -m pip install --upgrade pip\n"
          ]
        }
      ],
      "source": [
        "%pip install torch"
      ]
    },
    {
      "cell_type": "code",
      "execution_count": 1,
      "metadata": {
        "id": "afQM8hqbVMjk"
      },
      "outputs": [],
      "source": [
        "import torch"
      ]
    },
    {
      "cell_type": "code",
      "execution_count": null,
      "metadata": {
        "id": "y9BUHOggVMjk",
        "outputId": "9149fd03-4158-4858-e486-1524773eda51"
      },
      "outputs": [
        {
          "name": "stdout",
          "output_type": "stream",
          "text": [
            "2.3.1+cpu\n"
          ]
        }
      ],
      "source": [
        "print(torch.__version__)"
      ]
    },
    {
      "cell_type": "markdown",
      "metadata": {
        "id": "2dwleNztVMjk"
      },
      "source": [
        "## Creating Tensors"
      ]
    },
    {
      "cell_type": "code",
      "execution_count": null,
      "metadata": {
        "id": "11GoFohBVMjl",
        "outputId": "b5610b95-92ce-48db-8ff4-8af999792801"
      },
      "outputs": [
        {
          "data": {
            "text/plain": [
              "tensor([[-3.8043e+30,  9.3887e-43,  0.0000e+00],\n",
              "        [ 0.0000e+00,  0.0000e+00,  0.0000e+00]])"
            ]
          },
          "execution_count": 4,
          "metadata": {},
          "output_type": "execute_result"
        }
      ],
      "source": [
        "# using empty tensor\n",
        "\n",
        "torch.empty(2,3)"
      ]
    },
    {
      "cell_type": "code",
      "execution_count": null,
      "metadata": {
        "id": "DLoXK3w-VMjm",
        "outputId": "1febc1da-61b0-41be-a206-d8a014eb7818"
      },
      "outputs": [
        {
          "data": {
            "text/plain": [
              "torch.Tensor"
            ]
          },
          "execution_count": 5,
          "metadata": {},
          "output_type": "execute_result"
        }
      ],
      "source": [
        "# check type of tensor\n",
        "x = torch.empty(2,3)\n",
        "type(x)"
      ]
    },
    {
      "cell_type": "code",
      "execution_count": null,
      "metadata": {
        "id": "62U-Q-Q8VMjm",
        "outputId": "f86c931d-2fe2-4820-c40b-d9570480e358"
      },
      "outputs": [
        {
          "data": {
            "text/plain": [
              "tensor([[0., 0., 0.],\n",
              "        [0., 0., 0.]])"
            ]
          },
          "execution_count": 6,
          "metadata": {},
          "output_type": "execute_result"
        }
      ],
      "source": [
        "torch.zeros(2,3)"
      ]
    },
    {
      "cell_type": "code",
      "execution_count": null,
      "metadata": {
        "id": "IJnm9bO_VMjm",
        "outputId": "280866a2-bca2-4f6d-9506-3c6a6e6ea637"
      },
      "outputs": [
        {
          "data": {
            "text/plain": [
              "tensor([[1., 1., 1.],\n",
              "        [1., 1., 1.]])"
            ]
          },
          "execution_count": 7,
          "metadata": {},
          "output_type": "execute_result"
        }
      ],
      "source": [
        "# using ones\n",
        "torch.ones(2,3)"
      ]
    },
    {
      "cell_type": "code",
      "execution_count": null,
      "metadata": {
        "id": "W5YAvq8yVMjn",
        "outputId": "acbc30b4-c323-4055-f4a5-a525262ddd44"
      },
      "outputs": [
        {
          "data": {
            "text/plain": [
              "tensor([[0.2407, 0.2360, 0.4135],\n",
              "        [0.2256, 0.0208, 0.7757]])"
            ]
          },
          "execution_count": 8,
          "metadata": {},
          "output_type": "execute_result"
        }
      ],
      "source": [
        "# using rand\n",
        "torch.rand(2,3)"
      ]
    },
    {
      "cell_type": "code",
      "execution_count": null,
      "metadata": {
        "id": "tUD58ldWVMjn",
        "outputId": "330e33a4-071c-418a-fc59-22dc0d9099c1"
      },
      "outputs": [
        {
          "data": {
            "text/plain": [
              "tensor([[0.1117, 0.8158, 0.2626],\n",
              "        [0.4839, 0.6765, 0.7539]])"
            ]
          },
          "execution_count": 9,
          "metadata": {},
          "output_type": "execute_result"
        }
      ],
      "source": [
        "# manual seed - to get same random values every time we run the code it remains same\n",
        "torch.manual_seed(100)\n",
        "torch.rand(2,3)"
      ]
    },
    {
      "cell_type": "code",
      "execution_count": null,
      "metadata": {
        "id": "QVsD3GlZVMjn",
        "outputId": "42e52806-3bb7-46c3-bb55-744a83d42429"
      },
      "outputs": [
        {
          "data": {
            "text/plain": [
              "tensor([[2.5000, 3.0000],\n",
              "        [3.4000, 5.6000]])"
            ]
          },
          "execution_count": 10,
          "metadata": {},
          "output_type": "execute_result"
        }
      ],
      "source": [
        "# using tensor\n",
        "x = torch.tensor([[2.5,3],[3.4,5.6]])\n",
        "x"
      ]
    },
    {
      "cell_type": "code",
      "execution_count": null,
      "metadata": {
        "id": "9mBvvuenVMjo",
        "outputId": "d527673b-2dae-4213-9c84-eccb632e9079"
      },
      "outputs": [
        {
          "data": {
            "text/plain": [
              "tensor([0.0000, 0.3000, 0.6000, 0.9000, 1.2000, 1.5000, 1.8000, 2.1000, 2.4000,\n",
              "        2.7000, 3.0000, 3.3000, 3.6000, 3.9000, 4.2000, 4.5000, 4.8000, 5.1000,\n",
              "        5.4000, 5.7000, 6.0000, 6.3000, 6.6000, 6.9000, 7.2000, 7.5000, 7.8000,\n",
              "        8.1000, 8.4000, 8.7000, 9.0000, 9.3000, 9.6000, 9.9000])"
            ]
          },
          "execution_count": 11,
          "metadata": {},
          "output_type": "execute_result"
        }
      ],
      "source": [
        "# other ways to create tensor\n",
        "# arange\n",
        "torch.arange(0,10,0.3)"
      ]
    },
    {
      "cell_type": "code",
      "execution_count": null,
      "metadata": {
        "id": "GCUuSZFPVMjo",
        "outputId": "dcf5a4c7-e2c2-4176-909a-bd6bb7986d19"
      },
      "outputs": [
        {
          "data": {
            "text/plain": [
              "tensor([ 0.0000,  0.2020,  0.4040,  0.6061,  0.8081,  1.0101,  1.2121,  1.4141,\n",
              "         1.6162,  1.8182,  2.0202,  2.2222,  2.4242,  2.6263,  2.8283,  3.0303,\n",
              "         3.2323,  3.4343,  3.6364,  3.8384,  4.0404,  4.2424,  4.4444,  4.6465,\n",
              "         4.8485,  5.0505,  5.2525,  5.4545,  5.6566,  5.8586,  6.0606,  6.2626,\n",
              "         6.4646,  6.6667,  6.8687,  7.0707,  7.2727,  7.4747,  7.6768,  7.8788,\n",
              "         8.0808,  8.2828,  8.4848,  8.6869,  8.8889,  9.0909,  9.2929,  9.4949,\n",
              "         9.6970,  9.8990, 10.1010, 10.3030, 10.5051, 10.7071, 10.9091, 11.1111,\n",
              "        11.3131, 11.5152, 11.7172, 11.9192, 12.1212, 12.3232, 12.5253, 12.7273,\n",
              "        12.9293, 13.1313, 13.3333, 13.5354, 13.7374, 13.9394, 14.1414, 14.3434,\n",
              "        14.5455, 14.7475, 14.9495, 15.1515, 15.3535, 15.5556, 15.7576, 15.9596,\n",
              "        16.1616, 16.3636, 16.5657, 16.7677, 16.9697, 17.1717, 17.3737, 17.5758,\n",
              "        17.7778, 17.9798, 18.1818, 18.3838, 18.5859, 18.7879, 18.9899, 19.1919,\n",
              "        19.3939, 19.5960, 19.7980, 20.0000])"
            ]
          },
          "execution_count": 12,
          "metadata": {},
          "output_type": "execute_result"
        }
      ],
      "source": [
        "# linspace\n",
        "\n",
        "torch.linspace(0,20,100)"
      ]
    },
    {
      "cell_type": "code",
      "execution_count": null,
      "metadata": {
        "id": "_hk642PIVMjo",
        "outputId": "0699c04a-b77d-436e-b8a4-ebe067b6fd38"
      },
      "outputs": [
        {
          "data": {
            "text/plain": [
              "tensor([[1., 0., 0., 0., 0.],\n",
              "        [0., 1., 0., 0., 0.],\n",
              "        [0., 0., 1., 0., 0.],\n",
              "        [0., 0., 0., 1., 0.],\n",
              "        [0., 0., 0., 0., 1.]])"
            ]
          },
          "execution_count": 13,
          "metadata": {},
          "output_type": "execute_result"
        }
      ],
      "source": [
        "# using eye\n",
        "\n",
        "torch.eye(5)"
      ]
    },
    {
      "cell_type": "code",
      "execution_count": null,
      "metadata": {
        "id": "a0tagPlAVMjo",
        "outputId": "24abcac0-a381-4983-c58c-6ecb8ed221f8"
      },
      "outputs": [
        {
          "data": {
            "text/plain": [
              "tensor([[10, 10, 10],\n",
              "        [10, 10, 10]])"
            ]
          },
          "execution_count": 14,
          "metadata": {},
          "output_type": "execute_result"
        }
      ],
      "source": [
        "# using full - to create tensor with same value\n",
        "torch.full((2,3), 10)"
      ]
    },
    {
      "cell_type": "markdown",
      "metadata": {
        "id": "HUGCu5_lVMjo"
      },
      "source": [
        "## Tensor Shapes"
      ]
    },
    {
      "cell_type": "code",
      "execution_count": null,
      "metadata": {
        "id": "5sgrmTROVMjo",
        "outputId": "7ba14b1e-4209-4acd-9fed-c0c1c1284e43"
      },
      "outputs": [
        {
          "data": {
            "text/plain": [
              "torch.Size([2, 3])"
            ]
          },
          "execution_count": 15,
          "metadata": {},
          "output_type": "execute_result"
        }
      ],
      "source": [
        "x = torch.tensor([[1,2,3],[4,5,6]])\n",
        "x.shape"
      ]
    },
    {
      "cell_type": "code",
      "execution_count": null,
      "metadata": {
        "id": "X-eQZhv_VMjp",
        "outputId": "b2d4ee4f-6af5-4250-be98-7cbaab9671db"
      },
      "outputs": [
        {
          "data": {
            "text/plain": [
              "tensor([[2881692501872,             0,             0],\n",
              "        [            0,             0,             0]])"
            ]
          },
          "execution_count": 16,
          "metadata": {},
          "output_type": "execute_result"
        }
      ],
      "source": [
        "torch.empty_like(x) # create tensor with same shape as x"
      ]
    },
    {
      "cell_type": "code",
      "execution_count": null,
      "metadata": {
        "id": "hICxHRjOVMjp",
        "outputId": "77acb49c-2072-4798-f555-9271c4384b97"
      },
      "outputs": [
        {
          "data": {
            "text/plain": [
              "tensor([[0, 0, 0],\n",
              "        [0, 0, 0]])"
            ]
          },
          "execution_count": 17,
          "metadata": {},
          "output_type": "execute_result"
        }
      ],
      "source": [
        "torch.zeros_like(x)"
      ]
    },
    {
      "cell_type": "markdown",
      "metadata": {
        "id": "Z-TC4vQ0VMjp"
      },
      "source": [
        "## Tensor Data Types"
      ]
    },
    {
      "cell_type": "code",
      "execution_count": null,
      "metadata": {
        "id": "5BlXhqeDVMjp",
        "outputId": "56b52bbb-f7fc-4149-ef58-f5ed94d7dab8"
      },
      "outputs": [
        {
          "data": {
            "text/plain": [
              "torch.int64"
            ]
          },
          "execution_count": 18,
          "metadata": {},
          "output_type": "execute_result"
        }
      ],
      "source": [
        "x.dtype"
      ]
    },
    {
      "cell_type": "code",
      "execution_count": null,
      "metadata": {
        "id": "UMLXc1eQVMjp",
        "outputId": "807da981-bb2f-4721-c8ff-a27a3a25aa19"
      },
      "outputs": [
        {
          "data": {
            "text/plain": [
              "tensor([[1, 2, 3],\n",
              "        [4, 5, 6]], dtype=torch.int32)"
            ]
          },
          "execution_count": 19,
          "metadata": {},
          "output_type": "execute_result"
        }
      ],
      "source": [
        "# assign data type\n",
        "torch.tensor([[1.0,2.0,3.0],[4.0,5.0,6.0]], dtype=torch.int32)"
      ]
    },
    {
      "cell_type": "code",
      "execution_count": null,
      "metadata": {
        "id": "kCjhX8ViVMjp",
        "outputId": "1523fbb4-c8cb-428c-bf44-d2ef35df1265"
      },
      "outputs": [
        {
          "data": {
            "text/plain": [
              "tensor([[1., 2., 3.],\n",
              "        [4., 5., 6.]], dtype=torch.float64)"
            ]
          },
          "execution_count": 20,
          "metadata": {},
          "output_type": "execute_result"
        }
      ],
      "source": [
        "# assign data type\n",
        "torch.tensor([[1.0,2.0,3.0],[4.0,5.0,6.0]], dtype=torch.float64)"
      ]
    },
    {
      "cell_type": "code",
      "execution_count": null,
      "metadata": {
        "id": "ufigEJv3VMjq"
      },
      "outputs": [],
      "source": [
        "# using to() method to change data type\n",
        "\n",
        "x = torch.tensor([[1.0,2.0,3.0],[4.0,5.0,6.0]])\n",
        "x = x.to(torch.int32)"
      ]
    },
    {
      "cell_type": "markdown",
      "metadata": {
        "id": "Loy6DowlVMjq"
      },
      "source": [
        "## Mathematical Operations"
      ]
    },
    {
      "cell_type": "code",
      "execution_count": null,
      "metadata": {
        "id": "Q5IpFmEFVMjq",
        "outputId": "415439b3-b3f0-4d65-8a03-22b074fa6d12"
      },
      "outputs": [
        {
          "data": {
            "text/plain": [
              "tensor([[0.2627, 0.0428],\n",
              "        [0.2080, 0.1180]])"
            ]
          },
          "execution_count": 22,
          "metadata": {},
          "output_type": "execute_result"
        }
      ],
      "source": [
        "# Scalar Operations\n",
        "\n",
        "x = torch.rand(2,2)\n",
        "x"
      ]
    },
    {
      "cell_type": "code",
      "execution_count": null,
      "metadata": {
        "id": "8tvQF_iFVMjq",
        "outputId": "640a6209-01e3-42cc-bb32-37e05ab7c3db"
      },
      "outputs": [
        {
          "data": {
            "text/plain": [
              "tensor([[2.2627, 2.0428],\n",
              "        [2.2080, 2.1180]])"
            ]
          },
          "execution_count": 23,
          "metadata": {},
          "output_type": "execute_result"
        }
      ],
      "source": [
        "# addition\n",
        "x + 2"
      ]
    },
    {
      "cell_type": "code",
      "execution_count": null,
      "metadata": {
        "id": "vx_KrfYnVMjq",
        "outputId": "bc1f92c4-1808-46d2-ec35-61eb66a1ae17"
      },
      "outputs": [
        {
          "data": {
            "text/plain": [
              "tensor([[-3.7373, -3.9572],\n",
              "        [-3.7920, -3.8820]])"
            ]
          },
          "execution_count": 24,
          "metadata": {},
          "output_type": "execute_result"
        }
      ],
      "source": [
        "# subtraction\n",
        "x - 4"
      ]
    },
    {
      "cell_type": "code",
      "execution_count": null,
      "metadata": {
        "id": "_Sa0_zP1VMjq",
        "outputId": "e797c15f-5a8e-4973-897d-c60b97127f4f"
      },
      "outputs": [
        {
          "data": {
            "text/plain": [
              "tensor([[1.3135, 0.2142],\n",
              "        [1.0401, 0.5902]])"
            ]
          },
          "execution_count": 25,
          "metadata": {},
          "output_type": "execute_result"
        }
      ],
      "source": [
        "# multiplication\n",
        "x * 5"
      ]
    },
    {
      "cell_type": "code",
      "execution_count": null,
      "metadata": {
        "id": "fNs5LBIFVMjq",
        "outputId": "34a5eb56-9b9a-4958-f852-ced7042d8f6e"
      },
      "outputs": [
        {
          "data": {
            "text/plain": [
              "tensor([[0.1313, 0.0214],\n",
              "        [0.1040, 0.0590]])"
            ]
          },
          "execution_count": 26,
          "metadata": {},
          "output_type": "execute_result"
        }
      ],
      "source": [
        "# division\n",
        "x / 2"
      ]
    },
    {
      "cell_type": "code",
      "execution_count": null,
      "metadata": {
        "id": "TQSCLFwDVMjr",
        "outputId": "c57edb4a-ade0-4352-9354-567ea7a7db2e"
      },
      "outputs": [
        {
          "data": {
            "text/plain": [
              "tensor([[0., 0.],\n",
              "        [0., 0.]])"
            ]
          },
          "execution_count": 27,
          "metadata": {},
          "output_type": "execute_result"
        }
      ],
      "source": [
        "# int division - floor division\n",
        "\n",
        "x // 2"
      ]
    },
    {
      "cell_type": "code",
      "execution_count": null,
      "metadata": {
        "id": "bfdM8N_RVMjr",
        "outputId": "a96027c2-f41e-4e58-fc1c-8b3e59dae023"
      },
      "outputs": [
        {
          "data": {
            "text/plain": [
              "tensor([[0.2627, 0.0428],\n",
              "        [0.2080, 0.1180]])"
            ]
          },
          "execution_count": 28,
          "metadata": {},
          "output_type": "execute_result"
        }
      ],
      "source": [
        "# mod\n",
        "x % 2"
      ]
    },
    {
      "cell_type": "code",
      "execution_count": null,
      "metadata": {
        "id": "1uqnOw8YVMjr",
        "outputId": "c819a296-9316-4a58-d29e-db4bc2a7116e"
      },
      "outputs": [
        {
          "data": {
            "text/plain": [
              "tensor([[0.0690, 0.0018],\n",
              "        [0.0433, 0.0139]])"
            ]
          },
          "execution_count": 29,
          "metadata": {},
          "output_type": "execute_result"
        }
      ],
      "source": [
        "# power\n",
        "x ** 2"
      ]
    },
    {
      "cell_type": "markdown",
      "metadata": {
        "id": "O17HM4-QVMjr"
      },
      "source": [
        "## element wise operation"
      ]
    },
    {
      "cell_type": "code",
      "execution_count": null,
      "metadata": {
        "id": "4MDT2-Y7VMjs",
        "outputId": "6d5634d4-3ce0-4437-c353-ee38e504278a"
      },
      "outputs": [
        {
          "name": "stdout",
          "output_type": "stream",
          "text": [
            "tensor([[0.1217, 0.7356],\n",
            "        [0.7118, 0.7876]])\n",
            "tensor([[0.4183, 0.9014],\n",
            "        [0.9969, 0.7565]])\n"
          ]
        }
      ],
      "source": [
        "a = torch.rand(2,2)\n",
        "b = torch.rand(2,2)\n",
        "\n",
        "print(a)\n",
        "print(b)"
      ]
    },
    {
      "cell_type": "code",
      "execution_count": null,
      "metadata": {
        "id": "v0DnntuQVMjs",
        "outputId": "b3352609-bedd-4685-c4be-a8fdae033f61"
      },
      "outputs": [
        {
          "data": {
            "text/plain": [
              "tensor([[0.5400, 1.6370],\n",
              "        [1.7087, 1.5441]])"
            ]
          },
          "execution_count": 31,
          "metadata": {},
          "output_type": "execute_result"
        }
      ],
      "source": [
        "# add\n",
        "torch.add(a,b)"
      ]
    },
    {
      "cell_type": "code",
      "execution_count": null,
      "metadata": {
        "id": "vXqLjtZnVMjs",
        "outputId": "8a683201-3557-4a16-9786-8dbef9cb43e7"
      },
      "outputs": [
        {
          "data": {
            "text/plain": [
              "tensor([[-0.2966, -0.1658],\n",
              "        [-0.2851,  0.0311]])"
            ]
          },
          "execution_count": 32,
          "metadata": {},
          "output_type": "execute_result"
        }
      ],
      "source": [
        "# subtract\n",
        "torch.sub(a,b)"
      ]
    },
    {
      "cell_type": "code",
      "execution_count": null,
      "metadata": {
        "id": "Pr7z97S5VMjs",
        "outputId": "58b63eea-b7a6-4c95-efb4-2971c1651d86"
      },
      "outputs": [
        {
          "data": {
            "text/plain": [
              "tensor([[0.0509, 0.6631],\n",
              "        [0.7095, 0.5958]])"
            ]
          },
          "execution_count": 33,
          "metadata": {},
          "output_type": "execute_result"
        }
      ],
      "source": [
        "# mulitply\n",
        "torch.mul(a,b)"
      ]
    },
    {
      "cell_type": "code",
      "execution_count": null,
      "metadata": {
        "id": "3g00GecfVMjs",
        "outputId": "9be73b07-9d93-4a6b-f1a8-2a6c734f0dcf"
      },
      "outputs": [
        {
          "data": {
            "text/plain": [
              "tensor([[0.2909, 0.8160],\n",
              "        [0.7140, 1.0411]])"
            ]
          },
          "execution_count": 34,
          "metadata": {},
          "output_type": "execute_result"
        }
      ],
      "source": [
        "# division\n",
        "torch.div(a,b)"
      ]
    },
    {
      "cell_type": "code",
      "execution_count": null,
      "metadata": {
        "id": "rWC69IdRVMjw",
        "outputId": "527ddb6d-d2b7-4322-f712-4278c5cc2e2b"
      },
      "outputs": [
        {
          "data": {
            "text/plain": [
              "tensor([[0.4143, 0.7582],\n",
              "        [0.7125, 0.8347]])"
            ]
          },
          "execution_count": 35,
          "metadata": {},
          "output_type": "execute_result"
        }
      ],
      "source": [
        "# power\n",
        "torch.pow(a,b)"
      ]
    },
    {
      "cell_type": "code",
      "execution_count": null,
      "metadata": {
        "id": "zV3dtgjnVMjx",
        "outputId": "94b1a454-c750-48ca-f5d4-0b04d55067fe"
      },
      "outputs": [
        {
          "data": {
            "text/plain": [
              "tensor([[0.1217, 0.7356],\n",
              "        [0.7118, 0.0311]])"
            ]
          },
          "execution_count": 36,
          "metadata": {},
          "output_type": "execute_result"
        }
      ],
      "source": [
        "# mod\n",
        "\n",
        "torch.fmod(a,b)"
      ]
    },
    {
      "cell_type": "code",
      "execution_count": null,
      "metadata": {
        "id": "YrwJxUDnVMjx"
      },
      "outputs": [],
      "source": [
        "c = torch.tensor([[1,-2],[3,-4]])"
      ]
    },
    {
      "cell_type": "code",
      "execution_count": null,
      "metadata": {
        "id": "6lUIku3CVMjx",
        "outputId": "9df965b0-da29-416b-d8cc-4ecf1e4d0654"
      },
      "outputs": [
        {
          "data": {
            "text/plain": [
              "tensor([[1, 2],\n",
              "        [3, 4]])"
            ]
          },
          "execution_count": 38,
          "metadata": {},
          "output_type": "execute_result"
        }
      ],
      "source": [
        "torch.abs(c)   # absolute value"
      ]
    },
    {
      "cell_type": "code",
      "execution_count": null,
      "metadata": {
        "id": "E4VcfSuOVMjx",
        "outputId": "0c424fce-3e6c-4bd4-8dad-a4109211765f"
      },
      "outputs": [
        {
          "data": {
            "text/plain": [
              "tensor([[-1,  2],\n",
              "        [-3,  4]])"
            ]
          },
          "execution_count": 39,
          "metadata": {},
          "output_type": "execute_result"
        }
      ],
      "source": [
        "# negative\n",
        "torch.neg(c)"
      ]
    },
    {
      "cell_type": "code",
      "execution_count": null,
      "metadata": {
        "id": "gqvpT-mxVMjx",
        "outputId": "95f85cdb-d7d1-42b2-ee74-751eaef997b1"
      },
      "outputs": [
        {
          "data": {
            "text/plain": [
              "tensor(3.)"
            ]
          },
          "execution_count": 40,
          "metadata": {},
          "output_type": "execute_result"
        }
      ],
      "source": [
        "# round\n",
        "torch.round(torch.tensor(3.14))"
      ]
    },
    {
      "cell_type": "code",
      "execution_count": null,
      "metadata": {
        "id": "lrrfakPkVMjy",
        "outputId": "3eac7a0b-49fc-4ba0-96fd-25edf856fc58"
      },
      "outputs": [
        {
          "data": {
            "text/plain": [
              "tensor(4.)"
            ]
          },
          "execution_count": 41,
          "metadata": {},
          "output_type": "execute_result"
        }
      ],
      "source": [
        "# ceil\n",
        "torch.ceil(torch.tensor(3.14))"
      ]
    },
    {
      "cell_type": "code",
      "execution_count": null,
      "metadata": {
        "id": "u5chxJ-0VMjy",
        "outputId": "f0b1964f-f9f7-4376-bbdd-4bbcaf0d3809"
      },
      "outputs": [
        {
          "data": {
            "text/plain": [
              "tensor(3.)"
            ]
          },
          "execution_count": 42,
          "metadata": {},
          "output_type": "execute_result"
        }
      ],
      "source": [
        "# floor\n",
        "torch.floor(torch.tensor(3.14))"
      ]
    },
    {
      "cell_type": "code",
      "execution_count": null,
      "metadata": {
        "id": "2h74laJXVMjy",
        "outputId": "abd29539-e353-435d-e29a-08e5b183739f"
      },
      "outputs": [
        {
          "data": {
            "text/plain": [
              "tensor([[1, 0],\n",
              "        [2, 0]])"
            ]
          },
          "execution_count": 43,
          "metadata": {},
          "output_type": "execute_result"
        }
      ],
      "source": [
        "# clamp - to limit the value between min and max\n",
        "\n",
        "torch.clamp(c, min=0, max=2)"
      ]
    },
    {
      "cell_type": "markdown",
      "metadata": {
        "id": "C159L5e2VMjy"
      },
      "source": [
        "## Reduction Operation"
      ]
    },
    {
      "cell_type": "code",
      "execution_count": null,
      "metadata": {
        "id": "EMsVyp2rVMjy",
        "outputId": "05366275-4248-4819-8c14-56e250aec9c9"
      },
      "outputs": [
        {
          "data": {
            "text/plain": [
              "tensor([[4, 3],\n",
              "        [8, 7]])"
            ]
          },
          "execution_count": 44,
          "metadata": {},
          "output_type": "execute_result"
        }
      ],
      "source": [
        "e = torch.randint(size=(2,2), low=0, high=10)\n",
        "e"
      ]
    },
    {
      "cell_type": "code",
      "execution_count": null,
      "metadata": {
        "id": "pGj54LjDVMjy",
        "outputId": "9116b4c2-651c-4335-d10f-8962a6a1732c"
      },
      "outputs": [
        {
          "data": {
            "text/plain": [
              "tensor(22)"
            ]
          },
          "execution_count": 45,
          "metadata": {},
          "output_type": "execute_result"
        }
      ],
      "source": [
        "# sum\n",
        "torch.sum(e)"
      ]
    },
    {
      "cell_type": "code",
      "execution_count": null,
      "metadata": {
        "id": "TrCjJc3LVMjy",
        "outputId": "fd3fd1da-a298-4f72-a735-fe4d396f643f"
      },
      "outputs": [
        {
          "data": {
            "text/plain": [
              "tensor([12, 10])"
            ]
          },
          "execution_count": 46,
          "metadata": {},
          "output_type": "execute_result"
        }
      ],
      "source": [
        "# sum along columns\n",
        "torch.sum(e, dim=0)"
      ]
    },
    {
      "cell_type": "code",
      "execution_count": null,
      "metadata": {
        "id": "6lRj9vs8VMjz",
        "outputId": "48c5d32b-dd97-4245-802a-b65440236828"
      },
      "outputs": [
        {
          "data": {
            "text/plain": [
              "tensor([ 7, 15])"
            ]
          },
          "execution_count": 47,
          "metadata": {},
          "output_type": "execute_result"
        }
      ],
      "source": [
        "# sum along rows\n",
        "torch.sum(e, dim=1)"
      ]
    },
    {
      "cell_type": "code",
      "execution_count": null,
      "metadata": {
        "id": "z-LL4SnJVMjz",
        "outputId": "90799175-9501-4b81-93d6-d46d03e89cfe"
      },
      "outputs": [
        {
          "data": {
            "text/plain": [
              "tensor(5.5000)"
            ]
          },
          "execution_count": 48,
          "metadata": {},
          "output_type": "execute_result"
        }
      ],
      "source": [
        "# mean\n",
        "torch.mean(e,dtype=torch.float32)"
      ]
    },
    {
      "cell_type": "code",
      "execution_count": null,
      "metadata": {
        "id": "x92sOdtSVMjz",
        "outputId": "194ad797-84e3-4949-d3da-ac40f9b7d860"
      },
      "outputs": [
        {
          "name": "stdout",
          "output_type": "stream",
          "text": [
            "tensor(8)\n"
          ]
        },
        {
          "data": {
            "text/plain": [
              "tensor(3)"
            ]
          },
          "execution_count": 49,
          "metadata": {},
          "output_type": "execute_result"
        }
      ],
      "source": [
        "# max and min\n",
        "print(torch.max(e))\n",
        "torch.min(e)"
      ]
    },
    {
      "cell_type": "code",
      "execution_count": null,
      "metadata": {
        "id": "f1Xu1ygrVMjz",
        "outputId": "665c23a8-af9c-4d22-fe43-d6f671b3170b"
      },
      "outputs": [
        {
          "data": {
            "text/plain": [
              "tensor(672)"
            ]
          },
          "execution_count": 50,
          "metadata": {},
          "output_type": "execute_result"
        }
      ],
      "source": [
        "# product\n",
        "torch.prod(e)"
      ]
    },
    {
      "cell_type": "code",
      "execution_count": null,
      "metadata": {
        "id": "fYBE9Fy9VMj0",
        "outputId": "a6ff6bbd-f313-4ec3-8589-5290532d8040"
      },
      "outputs": [
        {
          "ename": "TypeError",
          "evalue": "std() received an invalid combination of arguments - got (Tensor, dtype=torch.dtype), but expected one of:\n * (Tensor input, tuple of ints dim, bool unbiased, bool keepdim, *, Tensor out)\n * (Tensor input, tuple of ints dim, *, Number correction, bool keepdim, Tensor out)\n * (Tensor input, bool unbiased)\n      didn't match because some of the keywords were incorrect: dtype\n * (Tensor input, tuple of names dim, bool unbiased, bool keepdim, *, Tensor out)\n * (Tensor input, tuple of names dim, *, Number correction, bool keepdim, Tensor out)\n",
          "output_type": "error",
          "traceback": [
            "\u001b[1;31m---------------------------------------------------------------------------\u001b[0m",
            "\u001b[1;31mTypeError\u001b[0m                                 Traceback (most recent call last)",
            "Cell \u001b[1;32mIn[51], line 2\u001b[0m\n\u001b[0;32m      1\u001b[0m \u001b[38;5;66;03m# standard deviation\u001b[39;00m\n\u001b[1;32m----> 2\u001b[0m \u001b[43mtorch\u001b[49m\u001b[38;5;241;43m.\u001b[39;49m\u001b[43mstd\u001b[49m\u001b[43m(\u001b[49m\u001b[43me\u001b[49m\u001b[43m,\u001b[49m\u001b[43mdtype\u001b[49m\u001b[38;5;241;43m=\u001b[39;49m\u001b[43mtorch\u001b[49m\u001b[38;5;241;43m.\u001b[39;49m\u001b[43mfloat32\u001b[49m\u001b[43m)\u001b[49m\n",
            "\u001b[1;31mTypeError\u001b[0m: std() received an invalid combination of arguments - got (Tensor, dtype=torch.dtype), but expected one of:\n * (Tensor input, tuple of ints dim, bool unbiased, bool keepdim, *, Tensor out)\n * (Tensor input, tuple of ints dim, *, Number correction, bool keepdim, Tensor out)\n * (Tensor input, bool unbiased)\n      didn't match because some of the keywords were incorrect: dtype\n * (Tensor input, tuple of names dim, bool unbiased, bool keepdim, *, Tensor out)\n * (Tensor input, tuple of names dim, *, Number correction, bool keepdim, Tensor out)\n"
          ]
        }
      ],
      "source": [
        "# standard deviation\n",
        "torch.std(e,dtype=torch.float32)"
      ]
    },
    {
      "cell_type": "code",
      "execution_count": null,
      "metadata": {
        "id": "Kyr5XwyQVMj0",
        "outputId": "2f230c68-e662-48ff-e593-6c405cc78411"
      },
      "outputs": [
        {
          "ename": "RuntimeError",
          "evalue": "std and var only support floating point and complex dtypes",
          "output_type": "error",
          "traceback": [
            "\u001b[1;31m---------------------------------------------------------------------------\u001b[0m",
            "\u001b[1;31mRuntimeError\u001b[0m                              Traceback (most recent call last)",
            "Cell \u001b[1;32mIn[77], line 2\u001b[0m\n\u001b[0;32m      1\u001b[0m \u001b[38;5;66;03m# variance\u001b[39;00m\n\u001b[1;32m----> 2\u001b[0m \u001b[43mtorch\u001b[49m\u001b[38;5;241;43m.\u001b[39;49m\u001b[43mvar\u001b[49m\u001b[43m(\u001b[49m\u001b[43me\u001b[49m\u001b[43m)\u001b[49m\n",
            "\u001b[1;31mRuntimeError\u001b[0m: std and var only support floating point and complex dtypes"
          ]
        }
      ],
      "source": [
        "# variance\n",
        "torch.var(e)"
      ]
    },
    {
      "cell_type": "markdown",
      "metadata": {
        "id": "vJKynabPVMj0"
      },
      "source": [
        "## Matrix Operations"
      ]
    },
    {
      "cell_type": "code",
      "execution_count": null,
      "metadata": {
        "id": "IlEuEB6YVMj0"
      },
      "outputs": [],
      "source": [
        "f = torch.randint(size =(2,3) , low = 0 , high = 10)\n",
        "g = torch.randint(size =(3,2) , low = 0 , high = 10)"
      ]
    },
    {
      "cell_type": "code",
      "execution_count": null,
      "metadata": {
        "id": "LjYN9aDVVMj0",
        "outputId": "befb49f2-19c0-48d1-fc5a-2d49d85ae6df"
      },
      "outputs": [
        {
          "name": "stdout",
          "output_type": "stream",
          "text": [
            "tensor([[4, 6, 0],\n",
            "        [1, 9, 9]])\n",
            "tensor([[8, 0],\n",
            "        [7, 0],\n",
            "        [0, 9]])\n"
          ]
        }
      ],
      "source": [
        "print(f)\n",
        "print(g)"
      ]
    },
    {
      "cell_type": "code",
      "execution_count": null,
      "metadata": {
        "id": "f9CO9gIzVMj0",
        "outputId": "f1a76cc9-9568-43e3-b5a7-b45a776ede8f"
      },
      "outputs": [
        {
          "data": {
            "text/plain": [
              "tensor([[74,  0],\n",
              "        [71, 81]])"
            ]
          },
          "execution_count": 54,
          "metadata": {},
          "output_type": "execute_result"
        }
      ],
      "source": [
        "# matrix multiplication\n",
        "torch.mm(f,g)"
      ]
    },
    {
      "cell_type": "code",
      "execution_count": null,
      "metadata": {
        "id": "Pyul_we2VMj1",
        "outputId": "2c92a839-cfa2-4d58-8799-bfd061497c90"
      },
      "outputs": [
        {
          "data": {
            "text/plain": [
              "tensor(113)"
            ]
          },
          "execution_count": 55,
          "metadata": {},
          "output_type": "execute_result"
        }
      ],
      "source": [
        "# dot product\n",
        "torch.dot(f.view(-1),g.view(-1))"
      ]
    },
    {
      "cell_type": "code",
      "execution_count": null,
      "metadata": {
        "id": "6SLiu-yUVMj1",
        "outputId": "09fa6ef6-36ad-4c9c-e09c-ff561dd76d75"
      },
      "outputs": [
        {
          "data": {
            "text/plain": [
              "tensor([4, 6, 0, 1, 9, 9])"
            ]
          },
          "execution_count": 58,
          "metadata": {},
          "output_type": "execute_result"
        }
      ],
      "source": [
        "f.view(-1) # changes into 1D tensor"
      ]
    },
    {
      "cell_type": "code",
      "execution_count": null,
      "metadata": {
        "id": "LBmnFVFCVMj1",
        "outputId": "6f019ccc-e3e3-478b-8da6-e896f9424839"
      },
      "outputs": [
        {
          "data": {
            "text/plain": [
              "tensor([[4, 1],\n",
              "        [6, 9],\n",
              "        [0, 9]])"
            ]
          },
          "execution_count": 59,
          "metadata": {},
          "output_type": "execute_result"
        }
      ],
      "source": [
        "# Transpose\n",
        "f.t()"
      ]
    },
    {
      "cell_type": "code",
      "execution_count": null,
      "metadata": {
        "id": "WviMXC7AVMj1"
      },
      "outputs": [],
      "source": [
        "# creating a square matrix using torch.rand\n",
        "h = torch.rand(3,3)"
      ]
    },
    {
      "cell_type": "code",
      "execution_count": null,
      "metadata": {
        "id": "lYNLvZyNVMj1",
        "outputId": "e05dba4a-22c7-4169-f003-f083dab1c115"
      },
      "outputs": [
        {
          "data": {
            "text/plain": [
              "tensor(-0.0543)"
            ]
          },
          "execution_count": 62,
          "metadata": {},
          "output_type": "execute_result"
        }
      ],
      "source": [
        "# determinant\n",
        "torch.det(h)"
      ]
    },
    {
      "cell_type": "code",
      "execution_count": null,
      "metadata": {
        "id": "cpUln0jhVMj2",
        "outputId": "77d316fa-12f0-484e-e716-6183f4f92d85"
      },
      "outputs": [
        {
          "data": {
            "text/plain": [
              "tensor([[ -1.3542,   2.0042,  -0.7611],\n",
              "        [ -0.0386,   8.8635, -12.1265],\n",
              "        [  1.0817,  -2.0888,   2.8227]])"
            ]
          },
          "execution_count": 64,
          "metadata": {},
          "output_type": "execute_result"
        }
      ],
      "source": [
        "# inverse\n",
        "torch.inverse(h)"
      ]
    },
    {
      "cell_type": "markdown",
      "metadata": {
        "id": "qGLEBeGNVMj2"
      },
      "source": [
        "## Comparision Operations"
      ]
    },
    {
      "cell_type": "code",
      "execution_count": null,
      "metadata": {
        "id": "kbD6XRuQVMj2"
      },
      "outputs": [],
      "source": [
        "# creating a square matrix using torch.rand\n",
        "i = torch.rand(3,3)\n",
        "j = torch.rand(3,3)"
      ]
    },
    {
      "cell_type": "code",
      "execution_count": null,
      "metadata": {
        "id": "Fdd_aszoVMj2",
        "outputId": "6b6c3120-6d19-439b-a4d8-db006c465f2f"
      },
      "outputs": [
        {
          "data": {
            "text/plain": [
              "tensor([[False, False, False],\n",
              "        [False, False,  True],\n",
              "        [False, False,  True]])"
            ]
          },
          "execution_count": 66,
          "metadata": {},
          "output_type": "execute_result"
        }
      ],
      "source": [
        "# greater than\n",
        "torch.gt(i,j)"
      ]
    },
    {
      "cell_type": "code",
      "execution_count": null,
      "metadata": {
        "id": "YKMf0bfiVMj3",
        "outputId": "13008bca-d011-456f-c833-b17f08beeb1d"
      },
      "outputs": [
        {
          "data": {
            "text/plain": [
              "tensor([[ True,  True,  True],\n",
              "        [ True,  True, False],\n",
              "        [ True,  True, False]])"
            ]
          },
          "execution_count": 67,
          "metadata": {},
          "output_type": "execute_result"
        }
      ],
      "source": [
        "# less than\n",
        "torch.lt(i,j)"
      ]
    },
    {
      "cell_type": "code",
      "execution_count": null,
      "metadata": {
        "id": "A6yFvCoAVMj3",
        "outputId": "7f8db8c2-e142-4391-c1c0-05c71ec8fd13"
      },
      "outputs": [
        {
          "data": {
            "text/plain": [
              "tensor([[False, False, False],\n",
              "        [False, False, False],\n",
              "        [False, False, False]])"
            ]
          },
          "execution_count": 68,
          "metadata": {},
          "output_type": "execute_result"
        }
      ],
      "source": [
        "# equal to\n",
        "torch.eq(i,j)"
      ]
    },
    {
      "cell_type": "code",
      "execution_count": null,
      "metadata": {
        "id": "FjZ1a-EoVMj3",
        "outputId": "dfb74500-af22-459b-ae81-4de61bd97510"
      },
      "outputs": [
        {
          "data": {
            "text/plain": [
              "tensor([[True, True, True],\n",
              "        [True, True, True],\n",
              "        [True, True, True]])"
            ]
          },
          "execution_count": 69,
          "metadata": {},
          "output_type": "execute_result"
        }
      ],
      "source": [
        "# not equal to\n",
        "torch.ne(i,j)"
      ]
    },
    {
      "cell_type": "code",
      "execution_count": null,
      "metadata": {
        "id": "SceMNAc-VMj3",
        "outputId": "48ca9211-1338-4755-f296-3eac00036de5"
      },
      "outputs": [
        {
          "data": {
            "text/plain": [
              "tensor([[False, False, False],\n",
              "        [False, False,  True],\n",
              "        [False, False,  True]])"
            ]
          },
          "execution_count": 70,
          "metadata": {},
          "output_type": "execute_result"
        }
      ],
      "source": [
        "# greater than or equal to\n",
        "torch.ge(i,j)"
      ]
    },
    {
      "cell_type": "code",
      "execution_count": null,
      "metadata": {
        "id": "ogIn96ByVMj4",
        "outputId": "1a717d1d-ccde-43b6-e4f1-e1c11ea735be"
      },
      "outputs": [
        {
          "data": {
            "text/plain": [
              "tensor([[ True,  True,  True],\n",
              "        [ True,  True, False],\n",
              "        [ True,  True, False]])"
            ]
          },
          "execution_count": 71,
          "metadata": {},
          "output_type": "execute_result"
        }
      ],
      "source": [
        "# less than or equal to\n",
        "torch.le(i,j)"
      ]
    },
    {
      "cell_type": "markdown",
      "metadata": {
        "id": "wD-7ZdurVMj4"
      },
      "source": [
        "## Special Functions"
      ]
    },
    {
      "cell_type": "code",
      "execution_count": null,
      "metadata": {
        "id": "pjtA3AaqVMj4",
        "outputId": "deeb882c-80b4-4924-c516-4edc1ed3572e"
      },
      "outputs": [
        {
          "data": {
            "text/plain": [
              "tensor(0.6931)"
            ]
          },
          "execution_count": 73,
          "metadata": {},
          "output_type": "execute_result"
        }
      ],
      "source": [
        "# log\n",
        "torch.log(torch.tensor(2.0))"
      ]
    },
    {
      "cell_type": "code",
      "execution_count": null,
      "metadata": {
        "id": "kvrHbcnVVMj4",
        "outputId": "f8b21d0a-d8ab-4402-8938-066d080e110e"
      },
      "outputs": [
        {
          "data": {
            "text/plain": [
              "tensor(7.3891)"
            ]
          },
          "execution_count": 74,
          "metadata": {},
          "output_type": "execute_result"
        }
      ],
      "source": [
        "# exp\n",
        "torch.exp(torch.tensor(2.0))"
      ]
    },
    {
      "cell_type": "code",
      "execution_count": null,
      "metadata": {
        "id": "99XfghykVMj4",
        "outputId": "02e57187-d9f4-4f6d-f524-4e787fc5dd20"
      },
      "outputs": [
        {
          "data": {
            "text/plain": [
              "tensor(1.4142)"
            ]
          },
          "execution_count": 75,
          "metadata": {},
          "output_type": "execute_result"
        }
      ],
      "source": [
        "# sqrt\n",
        "torch.sqrt(torch.tensor(2.0))"
      ]
    },
    {
      "cell_type": "code",
      "execution_count": null,
      "metadata": {
        "id": "J9NZFhxaVMj4",
        "outputId": "0a0d5603-c291-48f7-c76c-da0a614428f6"
      },
      "outputs": [
        {
          "data": {
            "text/plain": [
              "tensor(0.8808)"
            ]
          },
          "execution_count": 76,
          "metadata": {},
          "output_type": "execute_result"
        }
      ],
      "source": [
        "# sigmopid\n",
        "torch.sigmoid(torch.tensor(2.0))"
      ]
    },
    {
      "cell_type": "code",
      "execution_count": null,
      "metadata": {
        "id": "cbaJxFjJVMj4",
        "outputId": "28760e56-4d01-4bb9-b691-7de284bdc40c"
      },
      "outputs": [
        {
          "data": {
            "text/plain": [
              "tensor([0.0900, 0.2447, 0.6652])"
            ]
          },
          "execution_count": 77,
          "metadata": {},
          "output_type": "execute_result"
        }
      ],
      "source": [
        "# softmax\n",
        "torch.softmax(torch.tensor([1.0,2.0,3.0]), dim=0)"
      ]
    },
    {
      "cell_type": "code",
      "execution_count": null,
      "metadata": {
        "id": "CV2hekH6VMj5",
        "outputId": "c2c2b6e6-1ce2-4b9e-bcdd-1cab52591c67"
      },
      "outputs": [
        {
          "data": {
            "text/plain": [
              "tensor(0.)"
            ]
          },
          "execution_count": 78,
          "metadata": {},
          "output_type": "execute_result"
        }
      ],
      "source": [
        "# relu\n",
        "torch.relu(torch.tensor(-2.0))"
      ]
    },
    {
      "cell_type": "markdown",
      "metadata": {
        "id": "ZlnLdkTUVMj5"
      },
      "source": [
        "## Inplace Operations"
      ]
    },
    {
      "cell_type": "code",
      "execution_count": null,
      "metadata": {
        "id": "PM39kkWdVMj5"
      },
      "outputs": [],
      "source": [
        "# inplace operations - operations that modify the tensor in place and end with _    eg. add_ , sub_ , mul_ , div_ , pow_\n",
        "\n",
        "k = torch.rand(2,2)\n",
        "l  = torch.rand(2,2)"
      ]
    },
    {
      "cell_type": "code",
      "execution_count": null,
      "metadata": {
        "id": "y30DY0NoVMj5",
        "outputId": "2e5de7d9-a55c-400a-b742-580894df1e5e"
      },
      "outputs": [
        {
          "data": {
            "text/plain": [
              "tensor([[1.4317, 1.3515],\n",
              "        [1.5412, 1.2557]])"
            ]
          },
          "execution_count": 80,
          "metadata": {},
          "output_type": "execute_result"
        }
      ],
      "source": [
        "k.add_(l) # inplace addition"
      ]
    },
    {
      "cell_type": "code",
      "execution_count": null,
      "metadata": {
        "id": "QxbBTMvgVMj5",
        "outputId": "127663bf-c84b-4b59-b325-667f8c0cce7f"
      },
      "outputs": [
        {
          "data": {
            "text/plain": [
              "tensor([[1.4317, 1.3515],\n",
              "        [1.5412, 1.2557]])"
            ]
          },
          "execution_count": 81,
          "metadata": {},
          "output_type": "execute_result"
        }
      ],
      "source": [
        "k.relu_() # inplace relu"
      ]
    },
    {
      "cell_type": "markdown",
      "metadata": {
        "id": "_lY2sfpcVMj5"
      },
      "source": [
        "## copying a tensor"
      ]
    },
    {
      "cell_type": "code",
      "execution_count": null,
      "metadata": {
        "id": "i9l4vZ2rVMj6",
        "outputId": "4de15b59-5e67-418b-ec8b-79baaaf98bf3"
      },
      "outputs": [
        {
          "data": {
            "text/plain": [
              "tensor([[0.2170, 0.9454],\n",
              "        [0.7116, 0.1157]])"
            ]
          },
          "execution_count": 82,
          "metadata": {},
          "output_type": "execute_result"
        }
      ],
      "source": [
        "a = torch.rand(2,2)\n",
        "a"
      ]
    },
    {
      "cell_type": "code",
      "execution_count": null,
      "metadata": {
        "id": "hU6q2UrSVMj6"
      },
      "outputs": [],
      "source": [
        "b = a"
      ]
    },
    {
      "cell_type": "code",
      "execution_count": null,
      "metadata": {
        "id": "JF_24KFcVMj6",
        "outputId": "69f1aa1f-9c52-4d8a-b632-96c839d7c981"
      },
      "outputs": [
        {
          "data": {
            "text/plain": [
              "tensor([[0.2170, 0.9454],\n",
              "        [0.7116, 0.1157]])"
            ]
          },
          "execution_count": 84,
          "metadata": {},
          "output_type": "execute_result"
        }
      ],
      "source": [
        "b"
      ]
    },
    {
      "cell_type": "code",
      "execution_count": null,
      "metadata": {
        "id": "Si5KVAjqVMj6"
      },
      "outputs": [],
      "source": [
        "a [0][0] = 1"
      ]
    },
    {
      "cell_type": "code",
      "execution_count": null,
      "metadata": {
        "id": "xSsrIjbjVMj6",
        "outputId": "8bc53935-f61c-4465-9e1d-4e190bb3b2c7"
      },
      "outputs": [
        {
          "data": {
            "text/plain": [
              "tensor([[1.0000, 0.9454],\n",
              "        [0.7116, 0.1157]])"
            ]
          },
          "execution_count": 86,
          "metadata": {},
          "output_type": "execute_result"
        }
      ],
      "source": [
        "b"
      ]
    },
    {
      "cell_type": "code",
      "execution_count": null,
      "metadata": {
        "id": "bRFnHcbGVMj6",
        "outputId": "97cac605-cd7c-491f-8ff7-1ecae7d48ffc"
      },
      "outputs": [
        {
          "data": {
            "text/plain": [
              "1315571738624"
            ]
          },
          "execution_count": 87,
          "metadata": {},
          "output_type": "execute_result"
        }
      ],
      "source": [
        "id(a)"
      ]
    },
    {
      "cell_type": "code",
      "execution_count": null,
      "metadata": {
        "id": "ZoGXf32xVMj7",
        "outputId": "bc46a74c-592f-4571-f0f0-9122504365ef"
      },
      "outputs": [
        {
          "data": {
            "text/plain": [
              "1315571738624"
            ]
          },
          "execution_count": 88,
          "metadata": {},
          "output_type": "execute_result"
        }
      ],
      "source": [
        "id(b)"
      ]
    },
    {
      "cell_type": "code",
      "execution_count": null,
      "metadata": {
        "id": "4Iwiycw3VMj7"
      },
      "outputs": [],
      "source": [
        "b = a.clone()"
      ]
    },
    {
      "cell_type": "code",
      "execution_count": null,
      "metadata": {
        "id": "85FxvONjVMj7",
        "outputId": "0fbda11f-2c7b-4d7b-8440-5941c5c2b1f7"
      },
      "outputs": [
        {
          "data": {
            "text/plain": [
              "1315571738624"
            ]
          },
          "execution_count": 90,
          "metadata": {},
          "output_type": "execute_result"
        }
      ],
      "source": [
        "id(a)"
      ]
    },
    {
      "cell_type": "code",
      "execution_count": null,
      "metadata": {
        "id": "MBwXvdn9VMj7",
        "outputId": "cc65b267-2f30-4343-a55b-485bfcd9e45e"
      },
      "outputs": [
        {
          "data": {
            "text/plain": [
              "1315572260672"
            ]
          },
          "execution_count": 91,
          "metadata": {},
          "output_type": "execute_result"
        }
      ],
      "source": [
        "id(b)"
      ]
    },
    {
      "cell_type": "markdown",
      "source": [
        "## Working with GPUs"
      ],
      "metadata": {
        "id": "nmhiKyzhVnwx"
      }
    },
    {
      "cell_type": "code",
      "execution_count": 3,
      "metadata": {
        "id": "I-WhjjtNVMj7"
      },
      "outputs": [],
      "source": [
        "torch.cuda.is_available()\n",
        "\n",
        "device = torch.device('cuda')"
      ]
    },
    {
      "cell_type": "code",
      "source": [
        "# Creating a new tensor on GPU\n",
        "torch.rand((2,3), device = device)\n"
      ],
      "metadata": {
        "id": "AzDnXkzNVyS-",
        "outputId": "b160fcce-eb45-44c0-deeb-a0ffe12f7bf7",
        "colab": {
          "base_uri": "https://localhost:8080/"
        }
      },
      "execution_count": 4,
      "outputs": [
        {
          "output_type": "execute_result",
          "data": {
            "text/plain": [
              "tensor([[0.5394, 0.1430, 0.1442],\n",
              "        [0.7464, 0.7341, 0.3412]], device='cuda:0')"
            ]
          },
          "metadata": {},
          "execution_count": 4
        }
      ]
    },
    {
      "cell_type": "code",
      "source": [
        "# moving an existing tensor on GPU\n",
        "\n",
        "a = torch.rand(2,3)"
      ],
      "metadata": {
        "id": "iegmUgJzWKLV"
      },
      "execution_count": 5,
      "outputs": []
    },
    {
      "cell_type": "code",
      "source": [
        "b = a.to(device)\n",
        "b"
      ],
      "metadata": {
        "id": "5SlL87UpWUV5",
        "outputId": "0f8e2ac4-3b82-4d8c-fa46-c9efb17a58bd",
        "colab": {
          "base_uri": "https://localhost:8080/"
        }
      },
      "execution_count": 8,
      "outputs": [
        {
          "output_type": "execute_result",
          "data": {
            "text/plain": [
              "tensor([[0.1321, 0.2240, 0.1400],\n",
              "        [0.3155, 0.4122, 0.6741]], device='cuda:0')"
            ]
          },
          "metadata": {},
          "execution_count": 8
        }
      ]
    },
    {
      "cell_type": "code",
      "source": [],
      "metadata": {
        "id": "7dcFjQtxWZkd"
      },
      "execution_count": null,
      "outputs": []
    }
  ],
  "metadata": {
    "kernelspec": {
      "display_name": "Python 3",
      "name": "python3"
    },
    "language_info": {
      "codemirror_mode": {
        "name": "ipython",
        "version": 3
      },
      "file_extension": ".py",
      "mimetype": "text/x-python",
      "name": "python",
      "nbconvert_exporter": "python",
      "pygments_lexer": "ipython3",
      "version": "3.12.5"
    },
    "colab": {
      "provenance": [],
      "gpuType": "T4"
    },
    "accelerator": "GPU"
  },
  "nbformat": 4,
  "nbformat_minor": 0
}